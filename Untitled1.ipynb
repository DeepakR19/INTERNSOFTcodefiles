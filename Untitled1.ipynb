{
  "nbformat": 4,
  "nbformat_minor": 0,
  "metadata": {
    "colab": {
      "name": "Untitled1.ipynb",
      "provenance": [],
      "authorship_tag": "ABX9TyNFcGtVGJCln7djRSDyjfOr",
      "include_colab_link": true
    },
    "kernelspec": {
      "name": "python3",
      "display_name": "Python 3"
    },
    "language_info": {
      "name": "python"
    }
  },
  "cells": [
    {
      "cell_type": "markdown",
      "metadata": {
        "id": "view-in-github",
        "colab_type": "text"
      },
      "source": [
        "<a href=\"https://colab.research.google.com/github/DeepakR19/INTERNSOFTcodefiles/blob/main/Untitled1.ipynb\" target=\"_parent\"><img src=\"https://colab.research.google.com/assets/colab-badge.svg\" alt=\"Open In Colab\"/></a>"
      ]
    },
    {
      "cell_type": "code",
      "metadata": {
        "colab": {
          "base_uri": "https://localhost:8080/"
        },
        "id": "rdBV43fK_C1g",
        "outputId": "7bd1c689-ef3f-4857-8080-d6c42f8343a1"
      },
      "source": [
        "x = 5\n",
        "type(x)"
      ],
      "execution_count": null,
      "outputs": [
        {
          "output_type": "execute_result",
          "data": {
            "text/plain": [
              "int"
            ]
          },
          "metadata": {
            "tags": []
          },
          "execution_count": 2
        }
      ]
    },
    {
      "cell_type": "code",
      "metadata": {
        "id": "bwHXkbUXSGJC"
      },
      "source": [
        ""
      ],
      "execution_count": null,
      "outputs": []
    },
    {
      "cell_type": "code",
      "metadata": {
        "colab": {
          "base_uri": "https://localhost:8080/"
        },
        "id": "xfm6eU_K_caL",
        "outputId": "03b8573e-0b56-4990-cbea-76018bb8a7b7"
      },
      "source": [
        "x = 2.65\n",
        "type(x)\n"
      ],
      "execution_count": null,
      "outputs": [
        {
          "output_type": "execute_result",
          "data": {
            "text/plain": [
              "float"
            ]
          },
          "metadata": {
            "tags": []
          },
          "execution_count": 4
        }
      ]
    },
    {
      "cell_type": "code",
      "metadata": {
        "colab": {
          "base_uri": "https://localhost:8080/"
        },
        "id": "n5EhkP-T_p9D",
        "outputId": "a13fc528-c7ec-4fca-ae1f-d8090630450a"
      },
      "source": [
        "x = 2.0 - 1.0j\n",
        "type(x)\n"
      ],
      "execution_count": null,
      "outputs": [
        {
          "output_type": "execute_result",
          "data": {
            "text/plain": [
              "complex"
            ]
          },
          "metadata": {
            "tags": []
          },
          "execution_count": 11
        }
      ]
    },
    {
      "cell_type": "code",
      "metadata": {
        "colab": {
          "base_uri": "https://localhost:8080/"
        },
        "id": "b-t7SCbY_6os",
        "outputId": "ef874d2a-4b0f-4899-cc44-256f84ef6241"
      },
      "source": [
        "x"
      ],
      "execution_count": null,
      "outputs": [
        {
          "output_type": "execute_result",
          "data": {
            "text/plain": [
              "(2-1j)"
            ]
          },
          "metadata": {
            "tags": []
          },
          "execution_count": 12
        }
      ]
    },
    {
      "cell_type": "code",
      "metadata": {
        "colab": {
          "base_uri": "https://localhost:8080/"
        },
        "id": "XiPkQdKuAYdb",
        "outputId": "00358234-c77e-48ea-8358-ad41a58ad304"
      },
      "source": [
        "ten = 20\n",
        "two = 2\n",
        "print(two)\n",
        "ten\n"
      ],
      "execution_count": null,
      "outputs": [
        {
          "output_type": "stream",
          "text": [
            "2\n"
          ],
          "name": "stdout"
        },
        {
          "output_type": "execute_result",
          "data": {
            "text/plain": [
              "20"
            ]
          },
          "metadata": {
            "tags": []
          },
          "execution_count": 2
        }
      ]
    },
    {
      "cell_type": "code",
      "metadata": {
        "id": "QaEgz5XzAivr",
        "colab": {
          "base_uri": "https://localhost:8080/",
          "height": 35
        },
        "outputId": "46da167b-7ed4-4425-d53e-551bda0b92ff"
      },
      "source": [
        "ten = 10\n",
        "ten = 'none'\n",
        "ten"
      ],
      "execution_count": null,
      "outputs": [
        {
          "output_type": "execute_result",
          "data": {
            "application/vnd.google.colaboratory.intrinsic+json": {
              "type": "string"
            },
            "text/plain": [
              "'none'"
            ]
          },
          "metadata": {
            "tags": []
          },
          "execution_count": 8
        }
      ]
    },
    {
      "cell_type": "code",
      "metadata": {
        "colab": {
          "base_uri": "https://localhost:8080/",
          "height": 35
        },
        "id": "3_-WBW8InR5J",
        "outputId": "1a7b8a2a-1495-4c85-f24d-d8de9d29a103"
      },
      "source": [
        "i = 20\n",
        "i = 'prog'\n",
        "i"
      ],
      "execution_count": null,
      "outputs": [
        {
          "output_type": "execute_result",
          "data": {
            "application/vnd.google.colaboratory.intrinsic+json": {
              "type": "string"
            },
            "text/plain": [
              "'prog'"
            ]
          },
          "metadata": {
            "tags": []
          },
          "execution_count": 9
        }
      ]
    },
    {
      "cell_type": "code",
      "metadata": {
        "colab": {
          "base_uri": "https://localhost:8080/"
        },
        "id": "U-fqfjU1neJZ",
        "outputId": "f37941ac-cea4-4134-88f5-8fbea0946510"
      },
      "source": [
        "i = 'oh'\n",
        "i = 399\n",
        "i\n"
      ],
      "execution_count": null,
      "outputs": [
        {
          "output_type": "execute_result",
          "data": {
            "text/plain": [
              "399"
            ]
          },
          "metadata": {
            "tags": []
          },
          "execution_count": 11
        }
      ]
    },
    {
      "cell_type": "code",
      "metadata": {
        "colab": {
          "base_uri": "https://localhost:8080/",
          "height": 35
        },
        "id": "kQoF5Jx1nl71",
        "outputId": "987ec144-d77e-446f-f190-a496d7810f81"
      },
      "source": [
        "'March' + '24'"
      ],
      "execution_count": null,
      "outputs": [
        {
          "output_type": "execute_result",
          "data": {
            "application/vnd.google.colaboratory.intrinsic+json": {
              "type": "string"
            },
            "text/plain": [
              "'March24'"
            ]
          },
          "metadata": {
            "tags": []
          },
          "execution_count": 16
        }
      ]
    },
    {
      "cell_type": "code",
      "metadata": {
        "colab": {
          "base_uri": "https://localhost:8080/",
          "height": 35
        },
        "id": "QNz8V32zo8Y-",
        "outputId": "6111252b-a526-49fb-a885-40b2bbb28a05"
      },
      "source": [
        "'20' + ' Years old'"
      ],
      "execution_count": null,
      "outputs": [
        {
          "output_type": "execute_result",
          "data": {
            "application/vnd.google.colaboratory.intrinsic+json": {
              "type": "string"
            },
            "text/plain": [
              "'20 Years old'"
            ]
          },
          "metadata": {
            "tags": []
          },
          "execution_count": 17
        }
      ]
    },
    {
      "cell_type": "code",
      "metadata": {
        "colab": {
          "base_uri": "https://localhost:8080/",
          "height": 35
        },
        "id": "MgGs2SB-pHtf",
        "outputId": "8832d8f4-2057-4a72-e8e9-4656a3a94eba"
      },
      "source": [
        "'one' +  str( 1)"
      ],
      "execution_count": null,
      "outputs": [
        {
          "output_type": "execute_result",
          "data": {
            "application/vnd.google.colaboratory.intrinsic+json": {
              "type": "string"
            },
            "text/plain": [
              "'one1'"
            ]
          },
          "metadata": {
            "tags": []
          },
          "execution_count": 23
        }
      ]
    },
    {
      "cell_type": "code",
      "metadata": {
        "colab": {
          "base_uri": "https://localhost:8080/"
        },
        "id": "Nmuk0HeYpxzo",
        "outputId": "d52b0a17-e60e-4a2f-b063-1873728ecc96"
      },
      "source": [
        "True and True"
      ],
      "execution_count": null,
      "outputs": [
        {
          "output_type": "execute_result",
          "data": {
            "text/plain": [
              "True"
            ]
          },
          "metadata": {
            "tags": []
          },
          "execution_count": 24
        }
      ]
    },
    {
      "cell_type": "code",
      "metadata": {
        "colab": {
          "base_uri": "https://localhost:8080/"
        },
        "id": "2JWI5yBrp4zB",
        "outputId": "7a7800e8-3325-42e1-ef2b-651f9b606c04"
      },
      "source": [
        "True and False"
      ],
      "execution_count": null,
      "outputs": [
        {
          "output_type": "execute_result",
          "data": {
            "text/plain": [
              "False"
            ]
          },
          "metadata": {
            "tags": []
          },
          "execution_count": 25
        }
      ]
    },
    {
      "cell_type": "code",
      "metadata": {
        "colab": {
          "base_uri": "https://localhost:8080/"
        },
        "id": "OZk-FfW_p-Cf",
        "outputId": "3b732c3b-a2da-42d3-932e-b24d615fcce2"
      },
      "source": [
        "False and False"
      ],
      "execution_count": null,
      "outputs": [
        {
          "output_type": "execute_result",
          "data": {
            "text/plain": [
              "False"
            ]
          },
          "metadata": {
            "tags": []
          },
          "execution_count": 26
        }
      ]
    },
    {
      "cell_type": "code",
      "metadata": {
        "colab": {
          "base_uri": "https://localhost:8080/"
        },
        "id": "Aj0YTL6hqGQS",
        "outputId": "e4a68721-c4ad-43e7-8e87-1f41a2a9d67b"
      },
      "source": [
        "False or True"
      ],
      "execution_count": null,
      "outputs": [
        {
          "output_type": "execute_result",
          "data": {
            "text/plain": [
              "True"
            ]
          },
          "metadata": {
            "tags": []
          },
          "execution_count": 27
        }
      ]
    },
    {
      "cell_type": "code",
      "metadata": {
        "colab": {
          "base_uri": "https://localhost:8080/"
        },
        "id": "iSzRtU-ZqKJA",
        "outputId": "a0f0b0dd-9ea8-406f-d7f5-cf1a25cfd650"
      },
      "source": [
        "True or True"
      ],
      "execution_count": null,
      "outputs": [
        {
          "output_type": "execute_result",
          "data": {
            "text/plain": [
              "True"
            ]
          },
          "metadata": {
            "tags": []
          },
          "execution_count": 28
        }
      ]
    },
    {
      "cell_type": "code",
      "metadata": {
        "colab": {
          "base_uri": "https://localhost:8080/"
        },
        "id": "c969v0WzqN05",
        "outputId": "481d983d-b14f-4e7b-df68-6ceab1909dab"
      },
      "source": [
        "False or False "
      ],
      "execution_count": null,
      "outputs": [
        {
          "output_type": "execute_result",
          "data": {
            "text/plain": [
              "False"
            ]
          },
          "metadata": {
            "tags": []
          },
          "execution_count": 29
        }
      ]
    },
    {
      "cell_type": "code",
      "metadata": {
        "colab": {
          "base_uri": "https://localhost:8080/"
        },
        "id": "PYvdxuXhqVAK",
        "outputId": "f977693c-e9fd-4307-9e3c-1263ff28a68b"
      },
      "source": [
        "not True"
      ],
      "execution_count": null,
      "outputs": [
        {
          "output_type": "execute_result",
          "data": {
            "text/plain": [
              "False"
            ]
          },
          "metadata": {
            "tags": []
          },
          "execution_count": 30
        }
      ]
    },
    {
      "cell_type": "code",
      "metadata": {
        "colab": {
          "base_uri": "https://localhost:8080/"
        },
        "id": "XY13yG_lqYa2",
        "outputId": "2436b375-86e1-452a-9ecd-6f03d9006261"
      },
      "source": [
        "not False"
      ],
      "execution_count": null,
      "outputs": [
        {
          "output_type": "execute_result",
          "data": {
            "text/plain": [
              "True"
            ]
          },
          "metadata": {
            "tags": []
          },
          "execution_count": 31
        }
      ]
    },
    {
      "cell_type": "code",
      "metadata": {
        "colab": {
          "base_uri": "https://localhost:8080/"
        },
        "id": "S-eMdMYdqbDT",
        "outputId": "58467d3f-5c6f-40c0-f85d-d1079a119bf4"
      },
      "source": [
        "True is True"
      ],
      "execution_count": null,
      "outputs": [
        {
          "output_type": "execute_result",
          "data": {
            "text/plain": [
              "True"
            ]
          },
          "metadata": {
            "tags": []
          },
          "execution_count": 32
        }
      ]
    },
    {
      "cell_type": "code",
      "metadata": {
        "colab": {
          "base_uri": "https://localhost:8080/"
        },
        "id": "Xz3c5LjAqgXg",
        "outputId": "848dfca6-b4ae-4ef8-b2e5-6f3019b0b1a3"
      },
      "source": [
        "True is False"
      ],
      "execution_count": null,
      "outputs": [
        {
          "output_type": "execute_result",
          "data": {
            "text/plain": [
              "False"
            ]
          },
          "metadata": {
            "tags": []
          },
          "execution_count": 33
        }
      ]
    },
    {
      "cell_type": "code",
      "metadata": {
        "colab": {
          "base_uri": "https://localhost:8080/"
        },
        "id": "0peOWcLPqjye",
        "outputId": "f6ec5cc4-bd25-47a4-e33e-fbe34bbc6680"
      },
      "source": [
        "False is True"
      ],
      "execution_count": null,
      "outputs": [
        {
          "output_type": "execute_result",
          "data": {
            "text/plain": [
              "False"
            ]
          },
          "metadata": {
            "tags": []
          },
          "execution_count": 34
        }
      ]
    },
    {
      "cell_type": "code",
      "metadata": {
        "colab": {
          "base_uri": "https://localhost:8080/"
        },
        "id": "pAnrxfVbqrl3",
        "outputId": "7ffb4c63-5183-4bec-b1a5-12e283452b35"
      },
      "source": [
        "False is False"
      ],
      "execution_count": null,
      "outputs": [
        {
          "output_type": "execute_result",
          "data": {
            "text/plain": [
              "True"
            ]
          },
          "metadata": {
            "tags": []
          },
          "execution_count": 35
        }
      ]
    },
    {
      "cell_type": "code",
      "metadata": {
        "colab": {
          "base_uri": "https://localhost:8080/"
        },
        "id": "MslCPIF5q09i",
        "outputId": "7815daef-08c8-44a0-c8ab-4664676183cd"
      },
      "source": [
        "'d' is not 'd'\n"
      ],
      "execution_count": null,
      "outputs": [
        {
          "output_type": "execute_result",
          "data": {
            "text/plain": [
              "False"
            ]
          },
          "metadata": {
            "tags": []
          },
          "execution_count": 37
        }
      ]
    },
    {
      "cell_type": "code",
      "metadata": {
        "colab": {
          "base_uri": "https://localhost:8080/"
        },
        "id": "esdvHNqvq7cc",
        "outputId": "6cc13b0e-6121-4cff-b8ca-a9c7f3c4b956"
      },
      "source": [
        "'d' is 'd'"
      ],
      "execution_count": null,
      "outputs": [
        {
          "output_type": "execute_result",
          "data": {
            "text/plain": [
              "True"
            ]
          },
          "metadata": {
            "tags": []
          },
          "execution_count": 38
        }
      ]
    },
    {
      "cell_type": "code",
      "metadata": {
        "colab": {
          "base_uri": "https://localhost:8080/"
        },
        "id": "YmhQV4xDr2Ny",
        "outputId": "bb905083-e5b3-4439-bf86-3637453ddb47"
      },
      "source": [
        "i = 10\n",
        "if i < 9:\n",
        "  print('less than 10')\n",
        "elif i < 9:\n",
        "  print('greater than 10')\n",
        "else:\n",
        "  print('10 or more')"
      ],
      "execution_count": null,
      "outputs": [
        {
          "output_type": "stream",
          "text": [
            "10 or more\n"
          ],
          "name": "stdout"
        }
      ]
    },
    {
      "cell_type": "code",
      "metadata": {
        "colab": {
          "base_uri": "https://localhost:8080/"
        },
        "id": "m70Cq1PetJ3N",
        "outputId": "e9104277-b14e-43bb-ecd8-4c3bcc6dc489"
      },
      "source": [
        "i = 6\n",
        "if i < 8:\n",
        "  print('true')\n",
        "else:\n",
        "    print('false')"
      ],
      "execution_count": null,
      "outputs": [
        {
          "output_type": "stream",
          "text": [
            "true\n"
          ],
          "name": "stdout"
        }
      ]
    },
    {
      "cell_type": "code",
      "metadata": {
        "colab": {
          "base_uri": "https://localhost:8080/"
        },
        "id": "ID1WKjotuSN3",
        "outputId": "79847824-d9ee-4a42-8191-d8dea1c0ff8c"
      },
      "source": [
        "i = []\n",
        "i"
      ],
      "execution_count": null,
      "outputs": [
        {
          "output_type": "execute_result",
          "data": {
            "text/plain": [
              "[]"
            ]
          },
          "metadata": {
            "tags": []
          },
          "execution_count": 48
        }
      ]
    },
    {
      "cell_type": "code",
      "metadata": {
        "colab": {
          "base_uri": "https://localhost:8080/"
        },
        "id": "EWFgsZQbubvR",
        "outputId": "670c2d50-462e-48f6-84a1-fb364bf9f077"
      },
      "source": [
        "k = ['h' , 'k']\n",
        "print(k)\n",
        "type (k)"
      ],
      "execution_count": null,
      "outputs": [
        {
          "output_type": "stream",
          "text": [
            "['h', 'k']\n"
          ],
          "name": "stdout"
        },
        {
          "output_type": "execute_result",
          "data": {
            "text/plain": [
              "list"
            ]
          },
          "metadata": {
            "tags": []
          },
          "execution_count": 59
        }
      ]
    },
    {
      "cell_type": "code",
      "metadata": {
        "colab": {
          "base_uri": "https://localhost:8080/"
        },
        "id": "s6CYb6WOu3_g",
        "outputId": "1c9866be-276b-4b8c-c76c-f81defeaa767"
      },
      "source": [
        "k = ['abc' , 67]\n",
        "k"
      ],
      "execution_count": null,
      "outputs": [
        {
          "output_type": "execute_result",
          "data": {
            "text/plain": [
              "['abc', 67]"
            ]
          },
          "metadata": {
            "tags": []
          },
          "execution_count": 60
        }
      ]
    },
    {
      "cell_type": "code",
      "metadata": {
        "colab": {
          "base_uri": "https://localhost:8080/"
        },
        "id": "ioYZt6eavcz4",
        "outputId": "e2939c07-44ee-42c4-a58b-ecbf60e7288f"
      },
      "source": [
        "list('tryu465')"
      ],
      "execution_count": null,
      "outputs": [
        {
          "output_type": "execute_result",
          "data": {
            "text/plain": [
              "['t', 'r', 'y', 'u', '4', '6', '5']"
            ]
          },
          "metadata": {
            "tags": []
          },
          "execution_count": 61
        }
      ]
    },
    {
      "cell_type": "code",
      "metadata": {
        "colab": {
          "base_uri": "https://localhost:8080/"
        },
        "id": "dupu58pJvkt1",
        "outputId": "7e42f758-4239-4fe6-fa53-6ad78e8cbc5e"
      },
      "source": [
        "i = [2,5]\n",
        "i.append('t')\n",
        "i.append('r')\n",
        "i.insert(3,5)\n",
        "i"
      ],
      "execution_count": null,
      "outputs": [
        {
          "output_type": "execute_result",
          "data": {
            "text/plain": [
              "[2, 5, 't', 5, 'r']"
            ]
          },
          "metadata": {
            "tags": []
          },
          "execution_count": 63
        }
      ]
    },
    {
      "cell_type": "code",
      "metadata": {
        "colab": {
          "base_uri": "https://localhost:8080/"
        },
        "id": "iLIAf-1hxHJ7",
        "outputId": "39f063e5-0ee3-4098-fe84-24a746d980de"
      },
      "source": [
        "for y in i:\n",
        "  print(y)"
      ],
      "execution_count": null,
      "outputs": [
        {
          "output_type": "stream",
          "text": [
            "2\n",
            "5\n",
            "t\n",
            "5\n",
            "r\n"
          ],
          "name": "stdout"
        }
      ]
    },
    {
      "cell_type": "code",
      "metadata": {
        "colab": {
          "base_uri": "https://localhost:8080/"
        },
        "id": "5UAKc3YrSIT0",
        "outputId": "b1923bdd-5148-4922-893a-22ce9d2db43b"
      },
      "source": [
        "i = [1 , 2 , 2]\n",
        "for y in i:\n",
        "  print(y)\n",
        "else:\n",
        "  print('no items left')\n"
      ],
      "execution_count": 2,
      "outputs": [
        {
          "output_type": "stream",
          "text": [
            "1\n",
            "2\n",
            "2\n",
            "no items left\n"
          ],
          "name": "stdout"
        }
      ]
    },
    {
      "cell_type": "code",
      "metadata": {
        "colab": {
          "base_uri": "https://localhost:8080/"
        },
        "id": "TLVYPL6cTXvw",
        "outputId": "17e13e21-e9ab-44c8-8531-a5a654638b70"
      },
      "source": [
        "n = int(input(\"enter n: \"))\n",
        "sum = 0\n",
        "i = 1\n",
        "while i <= n:\n",
        "  sum = sum + i\n",
        "  i = i + 1\n",
        "print(sum)"
      ],
      "execution_count": 4,
      "outputs": [
        {
          "output_type": "stream",
          "text": [
            "enter n: 2\n",
            "3\n"
          ],
          "name": "stdout"
        }
      ]
    },
    {
      "cell_type": "code",
      "metadata": {
        "colab": {
          "base_uri": "https://localhost:8080/"
        },
        "id": "bJdulAFvUBlC",
        "outputId": "c1055010-d829-453e-c3d5-65e5212f527a"
      },
      "source": [
        "print(range(20))"
      ],
      "execution_count": 5,
      "outputs": [
        {
          "output_type": "stream",
          "text": [
            "range(0, 20)\n"
          ],
          "name": "stdout"
        }
      ]
    },
    {
      "cell_type": "code",
      "metadata": {
        "colab": {
          "base_uri": "https://localhost:8080/"
        },
        "id": "5pvJZ2UTVBEP",
        "outputId": "dcabb16a-2af4-41b0-fde4-0b86883afe22"
      },
      "source": [
        "print(list(range(20 , 40)))"
      ],
      "execution_count": 8,
      "outputs": [
        {
          "output_type": "stream",
          "text": [
            "[20, 21, 22, 23, 24, 25, 26, 27, 28, 29, 30, 31, 32, 33, 34, 35, 36, 37, 38, 39]\n"
          ],
          "name": "stdout"
        }
      ]
    },
    {
      "cell_type": "code",
      "metadata": {
        "colab": {
          "base_uri": "https://localhost:8080/"
        },
        "id": "MLsFNvGhVT6F",
        "outputId": "fc260ce6-2d9e-4760-f658-679228c8e0fc"
      },
      "source": [
        "print(list(range(2 , 50 , 2039)))"
      ],
      "execution_count": 9,
      "outputs": [
        {
          "output_type": "stream",
          "text": [
            "[2, 22, 42]\n"
          ],
          "name": "stdout"
        }
      ]
    },
    {
      "cell_type": "code",
      "metadata": {
        "colab": {
          "base_uri": "https://localhost:8080/"
        },
        "id": "5h3zUWYIWQt-",
        "outputId": "94dbd62e-9c31-415d-a273-ca1497ee5bdb"
      },
      "source": [
        "y = [1 , 4 , 5 , 7]\n",
        "for i in range(len(y)):\n",
        "  print(i , y[i])"
      ],
      "execution_count": 12,
      "outputs": [
        {
          "output_type": "stream",
          "text": [
            "0 1\n",
            "1 4\n",
            "2 5\n",
            "3 7\n"
          ],
          "name": "stdout"
        }
      ]
    },
    {
      "cell_type": "code",
      "metadata": {
        "colab": {
          "base_uri": "https://localhost:8080/"
        },
        "id": "ZGy9r0KfXYhv",
        "outputId": "89597555-d328-4e4f-abdd-65791ed17232"
      },
      "source": [
        "for i in \"Deepak\":\n",
        "  if i == \"p\":\n",
        "    break\n",
        "  print(i)\n",
        "print(\"DONE\")\n",
        " "
      ],
      "execution_count": 16,
      "outputs": [
        {
          "output_type": "stream",
          "text": [
            "D\n",
            "e\n",
            "e\n",
            "DONE\n"
          ],
          "name": "stdout"
        }
      ]
    },
    {
      "cell_type": "code",
      "metadata": {
        "colab": {
          "base_uri": "https://localhost:8080/"
        },
        "id": "TB2hyyK1Yt7Y",
        "outputId": "7459cfe4-ec97-448f-9505-020334933564"
      },
      "source": [
        "for i in \"virat\":\n",
        "  if i == \"a\":\n",
        "    continue\n",
        "  print(i)\n",
        "print(\"king\")"
      ],
      "execution_count": 20,
      "outputs": [
        {
          "output_type": "stream",
          "text": [
            "v\n",
            "i\n",
            "r\n",
            "t\n",
            "king\n"
          ],
          "name": "stdout"
        }
      ]
    },
    {
      "cell_type": "code",
      "metadata": {
        "colab": {
          "base_uri": "https://localhost:8080/"
        },
        "id": "zMbC59_8Zrp9",
        "outputId": "5ede33a4-ebf4-4a89-e67e-7496bba8f29a"
      },
      "source": [
        "name = input(\"What is your name?\\n\")\n",
        "age = input(\"what is your age?\")\n",
        "print(name + \", Nice meeting you\")\n",
        "print(\"Oh,even i am \" +  age + \" years old\")\n"
      ],
      "execution_count": 24,
      "outputs": [
        {
          "output_type": "stream",
          "text": [
            "What is your name?\n",
            "Deepak\n",
            "what is your age?19\n",
            "Deepak, Nice meeting you\n",
            "Oh,even i am 19years old\n"
          ],
          "name": "stdout"
        }
      ]
    }
  ]
}