{
  "nbformat": 4,
  "nbformat_minor": 0,
  "metadata": {
    "colab": {
      "name": "day5.ipynb",
      "provenance": [],
      "collapsed_sections": [],
      "authorship_tag": "ABX9TyMOlNyn7mK7pS54ZN9AbqUa",
      "include_colab_link": true
    },
    "kernelspec": {
      "name": "python3",
      "display_name": "Python 3"
    },
    "language_info": {
      "name": "python"
    }
  },
  "cells": [
    {
      "cell_type": "markdown",
      "metadata": {
        "id": "view-in-github",
        "colab_type": "text"
      },
      "source": [
        "<a href=\"https://colab.research.google.com/github/DeepakR19/INTERNSOFTcodefiles/blob/main/day5.ipynb\" target=\"_parent\"><img src=\"https://colab.research.google.com/assets/colab-badge.svg\" alt=\"Open In Colab\"/></a>"
      ]
    },
    {
      "cell_type": "code",
      "metadata": {
        "colab": {
          "base_uri": "https://localhost:8080/"
        },
        "id": "5g_d8hqrN_uO",
        "outputId": "5cae7732-a1b2-48d4-e3ee-5615cbfb78e2"
      },
      "source": [
        "class Person:\n",
        "  pass\n",
        "i = Person()\n",
        "i.name = 'Deepak'\n",
        "i.surname = 'Reddy'\n",
        "i.yob = 2002\n",
        "print(i)\n",
        "print(\"%s %s was bron in the year %d.\" %(i.name, i.surname, i.yob))\n"
      ],
      "execution_count": null,
      "outputs": [
        {
          "output_type": "stream",
          "text": [
            "<__main__.Person object at 0x7f559da55590>\n",
            "Deepak Reddy was bron in the year 2002.\n"
          ],
          "name": "stdout"
        }
      ]
    },
    {
      "cell_type": "code",
      "metadata": {
        "colab": {
          "base_uri": "https://localhost:8080/"
        },
        "id": "p6CsxXOFzdKU",
        "outputId": "c4187bbe-32cb-4be6-b7e3-7a6c3706ed42"
      },
      "source": [
        "class Person:\n",
        "  def __init__(self,name,surname,yob):\n",
        "    self.name = name\n",
        "    self.surname = surname\n",
        "    self.yob = yob\n",
        "Deepak = Person(\"Deepak\",\"Reddy\",2002)\n",
        "print(\"%s %s was bron in the year %d.\" %(Deepak.name, Deepak.surname, Deepak.yob))"
      ],
      "execution_count": null,
      "outputs": [
        {
          "output_type": "stream",
          "text": [
            "<__main__.Person object at 0x7fdf2ca261d0>\n",
            "Deepak Reddy was bron in the year 2002.\n"
          ],
          "name": "stdout"
        }
      ]
    },
    {
      "cell_type": "code",
      "metadata": {
        "colab": {
          "base_uri": "https://localhost:8080/"
        },
        "id": "4tPu9IIe0_VJ",
        "outputId": "29f3daae-5f71-4765-d9f3-09cbc4f27cdd"
      },
      "source": [
        "class Person:\n",
        "  def __init__(self,name,surname,yob):\n",
        "    self.name = name\n",
        "    self.surname = surname\n",
        "    self.yob = yob\n",
        "  def age(self,currentyear):\n",
        "    return currentyear - self.yob\n",
        "  def __str__(self):\n",
        "    return \"%s %s was bron in the year %d.\" %(self.name, self.surname, self.yob)\n",
        "Deepak = Person(\"Deepak\",\"Reddy\", 2002)\n",
        "print(Deepak)\n",
        "print(Deepak.age(2021))"
      ],
      "execution_count": null,
      "outputs": [
        {
          "output_type": "stream",
          "text": [
            "Deepak Reddy was bron in the year 2002.\n",
            "19\n"
          ],
          "name": "stdout"
        }
      ]
    },
    {
      "cell_type": "code",
      "metadata": {
        "id": "9T6XkmMU3JFV",
        "colab": {
          "base_uri": "https://localhost:8080/"
        },
        "outputId": "8ea8b11b-2b4c-4b95-c05b-c9ffb36629a0"
      },
      "source": [
        "class Student(Person):\n",
        "  def __init__(self, student_id, *args, **kwargs):\n",
        "    super(Student,self).__init__(*args, **kwargs)\n",
        "    self._student_id = student_id\n",
        "Deepak = Student(1, 'Charlie', 'Brown', 2006)\n",
        "print(Deepak)\n",
        "print(type(Deepak))\n",
        "print(isinstance(Deepak, Person))\n",
        "print(isinstance(Deepak, object))"
      ],
      "execution_count": null,
      "outputs": [
        {
          "output_type": "stream",
          "text": [
            "Charlie Brown was bron in the year 2006.\n",
            "<class '__main__.Student'>\n",
            "True\n",
            "True\n"
          ],
          "name": "stdout"
        }
      ]
    },
    {
      "cell_type": "code",
      "metadata": {
        "colab": {
          "base_uri": "https://localhost:8080/"
        },
        "id": "oUsteRSBGbTx",
        "outputId": "ce5b1869-015b-40f6-a268-f0afa22ddceb"
      },
      "source": [
        "class Student(Person):\n",
        "  def __init__(self, student_id, *args, **kwargs):\n",
        "    super(Student,self).__init__(*args, **kwargs)\n",
        "    self._student_id = student_id\n",
        "\n",
        "    def __str__(self):\n",
        "        return super(Student, self).__str__() + \" And has ID: %d\" % self._student_id\n",
        "        \n",
        "charlie = Student(1, 'Charlie', 'Brown', 2006)\n",
        "print(charlie)\n"
      ],
      "execution_count": null,
      "outputs": [
        {
          "output_type": "stream",
          "text": [
            "Charlie Brown was bron in the year 2006.\n"
          ],
          "name": "stdout"
        }
      ]
    },
    {
      "cell_type": "code",
      "metadata": {
        "id": "QxSrynCCJPpw"
      },
      "source": [
        ""
      ],
      "execution_count": null,
      "outputs": []
    }
  ]
}