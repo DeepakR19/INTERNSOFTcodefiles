{
  "nbformat": 4,
  "nbformat_minor": 0,
  "metadata": {
    "colab": {
      "name": "Numpy2.ipynb",
      "provenance": [],
      "authorship_tag": "ABX9TyOcWWoMYKCJCZFO82Jt1iYL",
      "include_colab_link": true
    },
    "kernelspec": {
      "name": "python3",
      "display_name": "Python 3"
    },
    "language_info": {
      "name": "python"
    }
  },
  "cells": [
    {
      "cell_type": "markdown",
      "metadata": {
        "id": "view-in-github",
        "colab_type": "text"
      },
      "source": [
        "<a href=\"https://colab.research.google.com/github/DeepakR19/INTERNSOFTcodefiles/blob/main/Numpy2.ipynb\" target=\"_parent\"><img src=\"https://colab.research.google.com/assets/colab-badge.svg\" alt=\"Open In Colab\"/></a>"
      ]
    },
    {
      "cell_type": "code",
      "metadata": {
        "id": "dEVwJIUSKSzh",
        "colab": {
          "base_uri": "https://localhost:8080/"
        },
        "outputId": "161aa0ba-e69c-4c7e-e46c-c82912744dcc"
      },
      "source": [
        "import numpy as np\n",
        "a = np.arange(15).reshape(3,5)\n",
        "a\n"
      ],
      "execution_count": null,
      "outputs": [
        {
          "output_type": "execute_result",
          "data": {
            "text/plain": [
              "array([[ 0,  1,  2,  3,  4],\n",
              "       [ 5,  6,  7,  8,  9],\n",
              "       [10, 11, 12, 13, 14]])"
            ]
          },
          "metadata": {
            "tags": []
          },
          "execution_count": 4
        }
      ]
    },
    {
      "cell_type": "code",
      "metadata": {
        "id": "NHy8b1FTn2aT",
        "colab": {
          "base_uri": "https://localhost:8080/"
        },
        "outputId": "aed84393-71f6-42ca-dd78-02eb3e8d11ae"
      },
      "source": [
        "  a[a > 4] = 0\n",
        "  a\n",
        "  "
      ],
      "execution_count": null,
      "outputs": [
        {
          "output_type": "execute_result",
          "data": {
            "text/plain": [
              "array([[0, 1, 2, 3, 4],\n",
              "       [0, 0, 0, 0, 0],\n",
              "       [0, 0, 0, 0, 0]])"
            ]
          },
          "metadata": {
            "tags": []
          },
          "execution_count": 2
        }
      ]
    },
    {
      "cell_type": "code",
      "metadata": {
        "colab": {
          "base_uri": "https://localhost:8080/"
        },
        "id": "JnWu5r_4tEO-",
        "outputId": "7948032e-1330-4640-ef3c-770b4ad682be"
      },
      "source": [
        "a[a > 5] = 3\n",
        "a"
      ],
      "execution_count": null,
      "outputs": [
        {
          "output_type": "execute_result",
          "data": {
            "text/plain": [
              "array([[0, 1, 2, 3, 4],\n",
              "       [5, 3, 3, 3, 3],\n",
              "       [3, 3, 3, 3, 3]])"
            ]
          },
          "metadata": {
            "tags": []
          },
          "execution_count": 5
        }
      ]
    },
    {
      "cell_type": "code",
      "metadata": {
        "colab": {
          "base_uri": "https://localhost:8080/"
        },
        "id": "5f-TiD0ntNaS",
        "outputId": "bbc3a648-45d2-4743-c10c-b4de45cd7f13"
      },
      "source": [
        "a[a == 3] = -1\n",
        "a"
      ],
      "execution_count": null,
      "outputs": [
        {
          "output_type": "execute_result",
          "data": {
            "text/plain": [
              "array([[-1,  1,  2, -1,  4],\n",
              "       [ 5, -1, -1, -1, -1],\n",
              "       [-1, -1, -1, -1, -1]])"
            ]
          },
          "metadata": {
            "tags": []
          },
          "execution_count": 7
        }
      ]
    },
    {
      "cell_type": "code",
      "metadata": {
        "colab": {
          "base_uri": "https://localhost:8080/"
        },
        "id": "zYW2Muv9tsZF",
        "outputId": "e9e96e81-5e8c-4e82-a853-ecf816faeb46"
      },
      "source": [
        "a == -1"
      ],
      "execution_count": null,
      "outputs": [
        {
          "output_type": "execute_result",
          "data": {
            "text/plain": [
              "array([[ True, False, False,  True, False],\n",
              "       [False,  True,  True,  True,  True],\n",
              "       [ True,  True,  True,  True,  True]])"
            ]
          },
          "metadata": {
            "tags": []
          },
          "execution_count": 8
        }
      ]
    },
    {
      "cell_type": "code",
      "metadata": {
        "colab": {
          "base_uri": "https://localhost:8080/"
        },
        "id": "an5HMI6ftvLA",
        "outputId": "c6a173fc-1427-47e4-9ef7-20d46833abd4"
      },
      "source": [
        "   a = np.arange(15).reshape(3,5)\n",
        "   a[np.logical_and(a > 3, a <= 9)] = 0.0\n",
        "   a"
      ],
      "execution_count": null,
      "outputs": [
        {
          "output_type": "execute_result",
          "data": {
            "text/plain": [
              "array([[ 0,  1,  2,  3,  0],\n",
              "       [ 0,  0,  0,  0,  0],\n",
              "       [10, 11, 12, 13, 14]])"
            ]
          },
          "metadata": {
            "tags": []
          },
          "execution_count": 11
        }
      ]
    },
    {
      "cell_type": "code",
      "metadata": {
        "colab": {
          "base_uri": "https://localhost:8080/"
        },
        "id": "53aILwBsukAS",
        "outputId": "7036fe98-57d6-4a8b-b16c-a8d32d0ed985"
      },
      "source": [
        "a > 4"
      ],
      "execution_count": null,
      "outputs": [
        {
          "output_type": "execute_result",
          "data": {
            "text/plain": [
              "array([[False, False, False, False, False],\n",
              "       [False, False, False, False, False],\n",
              "       [ True,  True,  True,  True,  True]])"
            ]
          },
          "metadata": {
            "tags": []
          },
          "execution_count": 12
        }
      ]
    },
    {
      "cell_type": "code",
      "metadata": {
        "colab": {
          "base_uri": "https://localhost:8080/"
        },
        "id": "BFG_XpG0vP2_",
        "outputId": "4f990fa4-f653-4a45-9fc3-72922bb57e3c"
      },
      "source": [
        "M = 32\n",
        "N = 64\n",
        "xmin = ymin = 0.0\n",
        "xmax = ymax = 1.0\n",
        "x = np.linspace(xmin, ymax, M, endpoint=False)\n",
        "y = np.linspace(xmin, ymax, N, endpoint =False)\n",
        "print(x.shape)\n",
        "print(y.shape)\n",
        "y"
      ],
      "execution_count": null,
      "outputs": [
        {
          "output_type": "stream",
          "text": [
            "(32,)\n",
            "(64,)\n"
          ],
          "name": "stdout"
        },
        {
          "output_type": "execute_result",
          "data": {
            "text/plain": [
              "array([0.      , 0.015625, 0.03125 , 0.046875, 0.0625  , 0.078125,\n",
              "       0.09375 , 0.109375, 0.125   , 0.140625, 0.15625 , 0.171875,\n",
              "       0.1875  , 0.203125, 0.21875 , 0.234375, 0.25    , 0.265625,\n",
              "       0.28125 , 0.296875, 0.3125  , 0.328125, 0.34375 , 0.359375,\n",
              "       0.375   , 0.390625, 0.40625 , 0.421875, 0.4375  , 0.453125,\n",
              "       0.46875 , 0.484375, 0.5     , 0.515625, 0.53125 , 0.546875,\n",
              "       0.5625  , 0.578125, 0.59375 , 0.609375, 0.625   , 0.640625,\n",
              "       0.65625 , 0.671875, 0.6875  , 0.703125, 0.71875 , 0.734375,\n",
              "       0.75    , 0.765625, 0.78125 , 0.796875, 0.8125  , 0.828125,\n",
              "       0.84375 , 0.859375, 0.875   , 0.890625, 0.90625 , 0.921875,\n",
              "       0.9375  , 0.953125, 0.96875 , 0.984375])"
            ]
          },
          "metadata": {
            "tags": []
          },
          "execution_count": 17
        }
      ]
    },
    {
      "cell_type": "code",
      "metadata": {
        "id": "_OoszpVnwHb6"
      },
      "source": [
        "import time\n",
        "import numpy as np \n",
        "M = 32\n",
        "N = 64\n",
        "x = np.linspace(0.0, 1.0, M, endpoint=False)\n",
        "y = np.linspace(xmin, 1.0, N, endpoint =False)"
      ],
      "execution_count": 1,
      "outputs": []
    },
    {
      "cell_type": "code",
      "metadata": {
        "colab": {
          "base_uri": "https://localhost:8080/"
        },
        "id": "MVsOADWONSdx",
        "outputId": "ff68dfc4-91b4-4073-9ce2-4e862fb30830"
      },
      "source": [
        "t0 = time.time()\n",
        "g = np.zeros((M,N))\n",
        "for i in range(M):\n",
        "  for j in range(N):\n",
        "    g[i,j] = np.sin(2.0*np.pi*x[i]*y[j])\n",
        "t1 = time.time()\n",
        "print(\"time elapsed: {} s\".format(t1-t0))"
      ],
      "execution_count": 6,
      "outputs": [
        {
          "output_type": "stream",
          "text": [
            "time elapsed: 0.010575294494628906 s\n"
          ],
          "name": "stdout"
        }
      ]
    },
    {
      "cell_type": "code",
      "metadata": {
        "colab": {
          "base_uri": "https://localhost:8080/"
        },
        "id": "jN1xIgJAO0g_",
        "outputId": "adedec7e-5740-4a3f-8c06-eb29cde6b3a3"
      },
      "source": [
        "x2d , y2d = np.meshgrid(x , y, indexing=\"ij\")\n",
        "print(x2d[:,0])\n",
        "print(x2d[0,:])\n",
        "print(y2d[:,0])\n",
        "print(y2d[0,:])"
      ],
      "execution_count": 8,
      "outputs": [
        {
          "output_type": "stream",
          "text": [
            "[0.      0.03125 0.0625  0.09375 0.125   0.15625 0.1875  0.21875 0.25\n",
            " 0.28125 0.3125  0.34375 0.375   0.40625 0.4375  0.46875 0.5     0.53125\n",
            " 0.5625  0.59375 0.625   0.65625 0.6875  0.71875 0.75    0.78125 0.8125\n",
            " 0.84375 0.875   0.90625 0.9375  0.96875]\n",
            "[0. 0. 0. 0. 0. 0. 0. 0. 0. 0. 0. 0. 0. 0. 0. 0. 0. 0. 0. 0. 0. 0. 0. 0.\n",
            " 0. 0. 0. 0. 0. 0. 0. 0. 0. 0. 0. 0. 0. 0. 0. 0. 0. 0. 0. 0. 0. 0. 0. 0.\n",
            " 0. 0. 0. 0. 0. 0. 0. 0. 0. 0. 0. 0. 0. 0. 0. 0.]\n",
            "[0. 0. 0. 0. 0. 0. 0. 0. 0. 0. 0. 0. 0. 0. 0. 0. 0. 0. 0. 0. 0. 0. 0. 0.\n",
            " 0. 0. 0. 0. 0. 0. 0. 0.]\n",
            "[0.       0.015625 0.03125  0.046875 0.0625   0.078125 0.09375  0.109375\n",
            " 0.125    0.140625 0.15625  0.171875 0.1875   0.203125 0.21875  0.234375\n",
            " 0.25     0.265625 0.28125  0.296875 0.3125   0.328125 0.34375  0.359375\n",
            " 0.375    0.390625 0.40625  0.421875 0.4375   0.453125 0.46875  0.484375\n",
            " 0.5      0.515625 0.53125  0.546875 0.5625   0.578125 0.59375  0.609375\n",
            " 0.625    0.640625 0.65625  0.671875 0.6875   0.703125 0.71875  0.734375\n",
            " 0.75     0.765625 0.78125  0.796875 0.8125   0.828125 0.84375  0.859375\n",
            " 0.875    0.890625 0.90625  0.921875 0.9375   0.953125 0.96875  0.984375]\n"
          ],
          "name": "stdout"
        }
      ]
    },
    {
      "cell_type": "code",
      "metadata": {
        "colab": {
          "base_uri": "https://localhost:8080/"
        },
        "id": "UlsUkMs4UmnJ",
        "outputId": "7b17eb20-fb3f-46be-f647-2f97f792fd96"
      },
      "source": [
        "x = np.array([1, 2, 3, 4])\n",
        "y = np.array([2, 3, 4, 5])\n",
        "np.concatenate([y,x])\n"
      ],
      "execution_count": 11,
      "outputs": [
        {
          "output_type": "execute_result",
          "data": {
            "text/plain": [
              "array([2, 3, 4, 5, 1, 2, 3, 4])"
            ]
          },
          "metadata": {
            "tags": []
          },
          "execution_count": 11
        }
      ]
    },
    {
      "cell_type": "code",
      "metadata": {
        "colab": {
          "base_uri": "https://localhost:8080/"
        },
        "id": "XLqrlo_DVIxA",
        "outputId": "aa4a452e-7141-4634-aa8b-2ffc1ea388ff"
      },
      "source": [
        "x = [1, 2, 3, 4, 5, 6, 5, 3, 4, 2, 1]\n",
        "x1, x2, x3, x4 = np.split(x, [3, 5, 6])\n",
        "print(x1, x2, x3, x4 )"
      ],
      "execution_count": 12,
      "outputs": [
        {
          "output_type": "stream",
          "text": [
            "[1 2 3] [4 5] [6] [5 3 4 2 1]\n"
          ],
          "name": "stdout"
        }
      ]
    },
    {
      "cell_type": "code",
      "metadata": {
        "colab": {
          "base_uri": "https://localhost:8080/"
        },
        "id": "za8KNgM5Wmte",
        "outputId": "935575b7-7d43-4ab5-cab6-47b2d796826f"
      },
      "source": [
        "g = np.arange(25).reshape(5,5)\n",
        "g\n",
        "\n"
      ],
      "execution_count": 14,
      "outputs": [
        {
          "output_type": "execute_result",
          "data": {
            "text/plain": [
              "array([[ 0,  1,  2,  3,  4],\n",
              "       [ 5,  6,  7,  8,  9],\n",
              "       [10, 11, 12, 13, 14],\n",
              "       [15, 16, 17, 18, 19],\n",
              "       [20, 21, 22, 23, 24]])"
            ]
          },
          "metadata": {
            "tags": []
          },
          "execution_count": 14
        }
      ]
    },
    {
      "cell_type": "code",
      "metadata": {
        "colab": {
          "base_uri": "https://localhost:8080/"
        },
        "id": "WArKaFuaW1O4",
        "outputId": "3cacc645-b037-416f-f8b9-5b77ed84cdf6"
      },
      "source": [
        "left, right = np.hsplit(g ,[4])\n",
        "print(left)\n",
        "print(right)"
      ],
      "execution_count": 20,
      "outputs": [
        {
          "output_type": "stream",
          "text": [
            "[[ 0  1  2  3]\n",
            " [ 5  6  7  8]\n",
            " [10 11 12 13]\n",
            " [15 16 17 18]\n",
            " [20 21 22 23]]\n",
            "[[ 4]\n",
            " [ 9]\n",
            " [14]\n",
            " [19]\n",
            " [24]]\n"
          ],
          "name": "stdout"
        }
      ]
    },
    {
      "cell_type": "code",
      "metadata": {
        "colab": {
          "base_uri": "https://localhost:8080/"
        },
        "id": "9MPZiO4uXnWY",
        "outputId": "b3106479-3980-4213-ce1a-6f974a9ba4c6"
      },
      "source": [
        "x = np.arange(1,9)\n",
        "print(x)\n",
        "np.add.reduce(x)"
      ],
      "execution_count": 25,
      "outputs": [
        {
          "output_type": "stream",
          "text": [
            "[1 2 3 4 5 6 7 8]\n"
          ],
          "name": "stdout"
        },
        {
          "output_type": "execute_result",
          "data": {
            "text/plain": [
              "36"
            ]
          },
          "metadata": {
            "tags": []
          },
          "execution_count": 25
        }
      ]
    },
    {
      "cell_type": "code",
      "metadata": {
        "colab": {
          "base_uri": "https://localhost:8080/"
        },
        "id": "HI3doiGXYHze",
        "outputId": "a0528de7-8e7a-4ebd-8bea-9c15402f3263"
      },
      "source": [
        "np.add.accumulate(x)"
      ],
      "execution_count": 26,
      "outputs": [
        {
          "output_type": "execute_result",
          "data": {
            "text/plain": [
              "array([ 1,  3,  6, 10, 15, 21, 28, 36])"
            ]
          },
          "metadata": {
            "tags": []
          },
          "execution_count": 26
        }
      ]
    }
  ]
}