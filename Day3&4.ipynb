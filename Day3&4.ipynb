{
  "nbformat": 4,
  "nbformat_minor": 0,
  "metadata": {
    "colab": {
      "name": "Day3&4.ipynb",
      "provenance": [],
      "authorship_tag": "ABX9TyNxGGfKrHQZvpBl8ewIYjMw",
      "include_colab_link": true
    },
    "kernelspec": {
      "name": "python3",
      "display_name": "Python 3"
    },
    "language_info": {
      "name": "python"
    }
  },
  "cells": [
    {
      "cell_type": "markdown",
      "metadata": {
        "id": "view-in-github",
        "colab_type": "text"
      },
      "source": [
        "<a href=\"https://colab.research.google.com/github/DeepakR19/INTERNSOFTcodefiles/blob/main/Day3%264.ipynb\" target=\"_parent\"><img src=\"https://colab.research.google.com/assets/colab-badge.svg\" alt=\"Open In Colab\"/></a>"
      ]
    },
    {
      "cell_type": "code",
      "metadata": {
        "colab": {
          "base_uri": "https://localhost:8080/"
        },
        "id": "EX_oXU-fWIcc",
        "outputId": "cedee98e-7964-4459-cb4f-fbf1eff2c9e9"
      },
      "source": [
        "i = (1.5,'t',1,2,3)\n",
        "i"
      ],
      "execution_count": null,
      "outputs": [
        {
          "output_type": "execute_result",
          "data": {
            "text/plain": [
              "(1.5, 't', 1, 2, 3)"
            ]
          },
          "metadata": {
            "tags": []
          },
          "execution_count": 3
        }
      ]
    },
    {
      "cell_type": "code",
      "metadata": {
        "colab": {
          "base_uri": "https://localhost:8080/"
        },
        "id": "tdmJQeVcXH_C",
        "outputId": "80033105-39c4-4f84-a4d2-3b2c67007f72"
      },
      "source": [
        "len(i)"
      ],
      "execution_count": null,
      "outputs": [
        {
          "output_type": "execute_result",
          "data": {
            "text/plain": [
              "5"
            ]
          },
          "metadata": {
            "tags": []
          },
          "execution_count": 4
        }
      ]
    },
    {
      "cell_type": "code",
      "metadata": {
        "colab": {
          "base_uri": "https://localhost:8080/",
          "height": 35
        },
        "id": "nlKlSvAJXKQZ",
        "outputId": "94be4195-532c-47c4-830a-adbc1f544e12"
      },
      "source": [
        "i[1]"
      ],
      "execution_count": null,
      "outputs": [
        {
          "output_type": "execute_result",
          "data": {
            "application/vnd.google.colaboratory.intrinsic+json": {
              "type": "string"
            },
            "text/plain": [
              "'t'"
            ]
          },
          "metadata": {
            "tags": []
          },
          "execution_count": 5
        }
      ]
    },
    {
      "cell_type": "code",
      "metadata": {
        "colab": {
          "base_uri": "https://localhost:8080/"
        },
        "id": "t8jXVc8SXhgi",
        "outputId": "874b685b-9b41-45f0-a024-051919b0b71d"
      },
      "source": [
        "i[-1]"
      ],
      "execution_count": null,
      "outputs": [
        {
          "output_type": "execute_result",
          "data": {
            "text/plain": [
              "3"
            ]
          },
          "metadata": {
            "tags": []
          },
          "execution_count": 6
        }
      ]
    },
    {
      "cell_type": "code",
      "metadata": {
        "colab": {
          "base_uri": "https://localhost:8080/"
        },
        "id": "DuC3m0kpXkVz",
        "outputId": "c7b340e3-286a-4abf-f82d-4a59d8589fb8"
      },
      "source": [
        "i[:1]"
      ],
      "execution_count": null,
      "outputs": [
        {
          "output_type": "execute_result",
          "data": {
            "text/plain": [
              "(1.5,)"
            ]
          },
          "metadata": {
            "tags": []
          },
          "execution_count": 7
        }
      ]
    },
    {
      "cell_type": "code",
      "metadata": {
        "colab": {
          "base_uri": "https://localhost:8080/"
        },
        "id": "peZCgX9SXomP",
        "outputId": "be2a3821-6d36-4577-cc9c-692f9da533b4"
      },
      "source": [
        "i[1:]"
      ],
      "execution_count": null,
      "outputs": [
        {
          "output_type": "execute_result",
          "data": {
            "text/plain": [
              "('t', 1, 2, 3)"
            ]
          },
          "metadata": {
            "tags": []
          },
          "execution_count": 8
        }
      ]
    },
    {
      "cell_type": "code",
      "metadata": {
        "colab": {
          "base_uri": "https://localhost:8080/"
        },
        "id": "QIM7oveRX4g4",
        "outputId": "2b634468-b482-49f7-fb2a-0639ab20371d"
      },
      "source": [
        "i.index(3)"
      ],
      "execution_count": null,
      "outputs": [
        {
          "output_type": "execute_result",
          "data": {
            "text/plain": [
              "4"
            ]
          },
          "metadata": {
            "tags": []
          },
          "execution_count": 9
        }
      ]
    },
    {
      "cell_type": "code",
      "metadata": {
        "colab": {
          "base_uri": "https://localhost:8080/",
          "height": 163
        },
        "id": "yjyruEx5YJ8y",
        "outputId": "6ca771b3-4829-4236-de1d-983398bf7e5c"
      },
      "source": [
        "i[2] = 3"
      ],
      "execution_count": null,
      "outputs": [
        {
          "output_type": "error",
          "ename": "TypeError",
          "evalue": "ignored",
          "traceback": [
            "\u001b[0;31m---------------------------------------------------------------------------\u001b[0m",
            "\u001b[0;31mTypeError\u001b[0m                                 Traceback (most recent call last)",
            "\u001b[0;32m<ipython-input-10-f348c1b68577>\u001b[0m in \u001b[0;36m<module>\u001b[0;34m()\u001b[0m\n\u001b[0;32m----> 1\u001b[0;31m \u001b[0mi\u001b[0m\u001b[0;34m[\u001b[0m\u001b[0;36m2\u001b[0m\u001b[0;34m]\u001b[0m \u001b[0;34m=\u001b[0m \u001b[0;36m3\u001b[0m\u001b[0;34m\u001b[0m\u001b[0;34m\u001b[0m\u001b[0m\n\u001b[0m",
            "\u001b[0;31mTypeError\u001b[0m: 'tuple' object does not support item assignment"
          ]
        }
      ]
    },
    {
      "cell_type": "code",
      "metadata": {
        "colab": {
          "base_uri": "https://localhost:8080/",
          "height": 163
        },
        "id": "NbIaWHgYYQha",
        "outputId": "16c97318-5952-4911-8c8e-b83160190f5e"
      },
      "source": [
        "i.append(2)"
      ],
      "execution_count": null,
      "outputs": [
        {
          "output_type": "error",
          "ename": "NameError",
          "evalue": "ignored",
          "traceback": [
            "\u001b[0;31m---------------------------------------------------------------------------\u001b[0m",
            "\u001b[0;31mNameError\u001b[0m                                 Traceback (most recent call last)",
            "\u001b[0;32m<ipython-input-1-b4599d4d844f>\u001b[0m in \u001b[0;36m<module>\u001b[0;34m()\u001b[0m\n\u001b[0;32m----> 1\u001b[0;31m \u001b[0mi\u001b[0m\u001b[0;34m.\u001b[0m\u001b[0mappend\u001b[0m\u001b[0;34m(\u001b[0m\u001b[0;36m2\u001b[0m\u001b[0;34m)\u001b[0m\u001b[0;34m\u001b[0m\u001b[0;34m\u001b[0m\u001b[0m\n\u001b[0m",
            "\u001b[0;31mNameError\u001b[0m: name 'i' is not defined"
          ]
        }
      ]
    },
    {
      "cell_type": "code",
      "metadata": {
        "colab": {
          "base_uri": "https://localhost:8080/"
        },
        "id": "ahRCB5LdmV7L",
        "outputId": "685bfb22-bc8c-4dff-f349-7d7855346129"
      },
      "source": [
        "x = set()\n",
        "x"
      ],
      "execution_count": null,
      "outputs": [
        {
          "output_type": "execute_result",
          "data": {
            "text/plain": [
              "set()"
            ]
          },
          "metadata": {
            "tags": []
          },
          "execution_count": 3
        }
      ]
    },
    {
      "cell_type": "code",
      "metadata": {
        "colab": {
          "base_uri": "https://localhost:8080/"
        },
        "id": "g8jBLgifml_u",
        "outputId": "aeedaa93-a2fd-4f8e-92ba-9e48224e2336"
      },
      "source": [
        "x.add(2)\n",
        "x"
      ],
      "execution_count": null,
      "outputs": [
        {
          "output_type": "execute_result",
          "data": {
            "text/plain": [
              "{2}"
            ]
          },
          "metadata": {
            "tags": []
          },
          "execution_count": 5
        }
      ]
    },
    {
      "cell_type": "code",
      "metadata": {
        "id": "7vxJwVQ6mtcM"
      },
      "source": [
        "x.add('e')"
      ],
      "execution_count": null,
      "outputs": []
    },
    {
      "cell_type": "code",
      "metadata": {
        "colab": {
          "base_uri": "https://localhost:8080/"
        },
        "id": "JA-J-4kzmxR5",
        "outputId": "9dfe1bad-808e-4c1b-d059-276f506aad16"
      },
      "source": [
        "x"
      ],
      "execution_count": null,
      "outputs": [
        {
          "output_type": "execute_result",
          "data": {
            "text/plain": [
              "{2, 'e'}"
            ]
          },
          "metadata": {
            "tags": []
          },
          "execution_count": 7
        }
      ]
    },
    {
      "cell_type": "code",
      "metadata": {
        "colab": {
          "base_uri": "https://localhost:8080/"
        },
        "id": "4ApMmS_0m3P1",
        "outputId": "cb6aa6f1-6c48-4577-e7c1-d5fe8daf9894"
      },
      "source": [
        "x.add(2)\n",
        "x"
      ],
      "execution_count": null,
      "outputs": [
        {
          "output_type": "execute_result",
          "data": {
            "text/plain": [
              "{2, 'e'}"
            ]
          },
          "metadata": {
            "tags": []
          },
          "execution_count": 10
        }
      ]
    },
    {
      "cell_type": "markdown",
      "metadata": {
        "id": "Rf8UzCW4nato"
      },
      "source": [
        "j = [1 , 2 , 3 , 4 , 1 , 2 , 2 , 3 , 1]\n",
        "set(j)"
      ]
    },
    {
      "cell_type": "code",
      "metadata": {
        "colab": {
          "base_uri": "https://localhost:8080/",
          "height": 35
        },
        "id": "bWF-9Lk0oy0Y",
        "outputId": "4e64bc5d-77c0-471b-8510-4305e69d4d59"
      },
      "source": [
        "dict = {'i':'1','j':'2'}\n",
        "dict['i']"
      ],
      "execution_count": null,
      "outputs": [
        {
          "output_type": "execute_result",
          "data": {
            "application/vnd.google.colaboratory.intrinsic+json": {
              "type": "string"
            },
            "text/plain": [
              "'1'"
            ]
          },
          "metadata": {
            "tags": []
          },
          "execution_count": 13
        }
      ]
    },
    {
      "cell_type": "code",
      "metadata": {
        "colab": {
          "base_uri": "https://localhost:8080/"
        },
        "id": "VIgRYB-kqFqC",
        "outputId": "18f86c5f-bc1f-448a-f2cf-d202a35bc444"
      },
      "source": [
        "dict = {'i':123,'j':[1 , 2, 3],'k':['yes' , 'no']}\n",
        "dict['k']"
      ],
      "execution_count": null,
      "outputs": [
        {
          "output_type": "execute_result",
          "data": {
            "text/plain": [
              "['yes', 'no']"
            ]
          },
          "metadata": {
            "tags": []
          },
          "execution_count": 15
        }
      ]
    },
    {
      "cell_type": "code",
      "metadata": {
        "colab": {
          "base_uri": "https://localhost:8080/"
        },
        "id": "9i_MNnFYqmuy",
        "outputId": "91820280-ca8d-4078-a437-6a19e6575ab3"
      },
      "source": [
        "dict['j'][1]"
      ],
      "execution_count": null,
      "outputs": [
        {
          "output_type": "execute_result",
          "data": {
            "text/plain": [
              "2"
            ]
          },
          "metadata": {
            "tags": []
          },
          "execution_count": 17
        }
      ]
    },
    {
      "cell_type": "code",
      "metadata": {
        "colab": {
          "base_uri": "https://localhost:8080/",
          "height": 35
        },
        "id": "ZHlkCaMxq8il",
        "outputId": "95ffcd71-d71e-4668-d362-d58f5ba9ac8a"
      },
      "source": [
        "  dict['k'][0].upper()"
      ],
      "execution_count": null,
      "outputs": [
        {
          "output_type": "execute_result",
          "data": {
            "application/vnd.google.colaboratory.intrinsic+json": {
              "type": "string"
            },
            "text/plain": [
              "'YES'"
            ]
          },
          "metadata": {
            "tags": []
          },
          "execution_count": 24
        }
      ]
    },
    {
      "cell_type": "code",
      "metadata": {
        "id": "MLEoa_irrjmk"
      },
      "source": [
        "dict['i'] = dict['i'] - 200\n"
      ],
      "execution_count": null,
      "outputs": []
    },
    {
      "cell_type": "code",
      "metadata": {
        "colab": {
          "base_uri": "https://localhost:8080/"
        },
        "id": "Y_Izo3aHrsv0",
        "outputId": "598647a7-bc34-4d53-b3cd-f8df68f811fe"
      },
      "source": [
        "dict['i']"
      ],
      "execution_count": null,
      "outputs": [
        {
          "output_type": "execute_result",
          "data": {
            "text/plain": [
              "-77"
            ]
          },
          "metadata": {
            "tags": []
          },
          "execution_count": 26
        }
      ]
    },
    {
      "cell_type": "code",
      "metadata": {
        "id": "2E-0ESwJrwkI"
      },
      "source": [
        "dict['i'] += 200"
      ],
      "execution_count": null,
      "outputs": []
    },
    {
      "cell_type": "code",
      "metadata": {
        "colab": {
          "base_uri": "https://localhost:8080/"
        },
        "id": "Ch47yDSlr68g",
        "outputId": "3dd21db2-fed2-4b40-edbc-f3f7637a715c"
      },
      "source": [
        "dict['i']"
      ],
      "execution_count": null,
      "outputs": [
        {
          "output_type": "execute_result",
          "data": {
            "text/plain": [
              "123"
            ]
          },
          "metadata": {
            "tags": []
          },
          "execution_count": 28
        }
      ]
    },
    {
      "cell_type": "code",
      "metadata": {
        "colab": {
          "base_uri": "https://localhost:8080/"
        },
        "id": "P4gtVDjIsVaH",
        "outputId": "2b631a6e-4129-4d02-e8c2-0bdc2fe77a28"
      },
      "source": [
        "d = {}\n",
        "d['i'] = 'Deepak'\n",
        "d['j'] = 19\n",
        "d"
      ],
      "execution_count": null,
      "outputs": [
        {
          "output_type": "execute_result",
          "data": {
            "text/plain": [
              "{'i': 'Deepak', 'j': 19}"
            ]
          },
          "metadata": {
            "tags": []
          },
          "execution_count": 29
        }
      ]
    },
    {
      "cell_type": "code",
      "metadata": {
        "colab": {
          "base_uri": "https://localhost:8080/"
        },
        "id": "eWVh6reBtAFY",
        "outputId": "1de363d2-0574-4d3a-83a6-336e05fa872d"
      },
      "source": [
        "j = {'key':{'nest':{'again':'finally'}}}\n",
        "j['key']"
      ],
      "execution_count": null,
      "outputs": [
        {
          "output_type": "execute_result",
          "data": {
            "text/plain": [
              "{'nest': {'again': 'finally'}}"
            ]
          },
          "metadata": {
            "tags": []
          },
          "execution_count": 30
        }
      ]
    },
    {
      "cell_type": "code",
      "metadata": {
        "colab": {
          "base_uri": "https://localhost:8080/",
          "height": 35
        },
        "id": "nu1zJPv8tUnB",
        "outputId": "6d5bd0de-52aa-4218-d838-944c4094c9e8"
      },
      "source": [
        "j['key']['nest']['again']"
      ],
      "execution_count": null,
      "outputs": [
        {
          "output_type": "execute_result",
          "data": {
            "application/vnd.google.colaboratory.intrinsic+json": {
              "type": "string"
            },
            "text/plain": [
              "'finally'"
            ]
          },
          "metadata": {
            "tags": []
          },
          "execution_count": 32
        }
      ]
    },
    {
      "cell_type": "code",
      "metadata": {
        "colab": {
          "base_uri": "https://localhost:8080/"
        },
        "id": "iR-LqLxO7ZPq",
        "outputId": "3b1dbd34-8f13-4618-e436-d191fcbc10ab"
      },
      "source": [
        "i = {'key1':1,'key2':3,'key3':3}\n",
        "i[mb'key1']"
      ],
      "execution_count": null,
      "outputs": [
        {
          "output_type": "execute_result",
          "data": {
            "text/plain": [
              "1"
            ]
          },
          "metadata": {
            "tags": []
          },
          "execution_count": 3
        }
      ]
    },
    {
      "cell_type": "code",
      "metadata": {
        "colab": {
          "base_uri": "https://localhost:8080/"
        },
        "id": "psxkRGG670ka",
        "outputId": "b0612f1d-15c4-4c07-8972-d6a766f8b52f"
      },
      "source": [
        "k = i.keys()\n",
        "print(i.values())\n",
        "print(k)\n",
        "print(i.items())"
      ],
      "execution_count": null,
      "outputs": [
        {
          "output_type": "stream",
          "text": [
            "dict_values([1, 3, 3])\n",
            "dict_keys(['key1', 'key2', 'key3'])\n",
            "dict_items([('key1', 1), ('key2', 3), ('key3', 3)])\n"
          ],
          "name": "stdout"
        }
      ]
    },
    {
      "cell_type": "code",
      "metadata": {
        "colab": {
          "base_uri": "https://localhost:8080/"
        },
        "id": "6LdjYaO-8E7a",
        "outputId": "4aa58167-5fda-43d5-c56a-757ab800afc0"
      },
      "source": [
        "{x:x**5 for x in range(10)}"
      ],
      "execution_count": null,
      "outputs": [
        {
          "output_type": "execute_result",
          "data": {
            "text/plain": [
              "{0: 0,\n",
              " 1: 1,\n",
              " 2: 32,\n",
              " 3: 243,\n",
              " 4: 1024,\n",
              " 5: 3125,\n",
              " 6: 7776,\n",
              " 7: 16807,\n",
              " 8: 32768,\n",
              " 9: 59049}"
            ]
          },
          "metadata": {
            "tags": []
          },
          "execution_count": 14
        }
      ]
    },
    {
      "cell_type": "code",
      "metadata": {
        "id": "R3x29XOg9ika",
        "colab": {
          "base_uri": "https://localhost:8080/"
        },
        "outputId": "b51926c3-01ef-4846-fde6-bc62fba16314"
      },
      "source": [
        "def say_hello():\n",
        "  print('Hello')\n",
        "say_hello()"
      ],
      "execution_count": null,
      "outputs": [
        {
          "output_type": "stream",
          "text": [
            "Hello\n"
          ],
          "name": "stdout"
        }
      ]
    },
    {
      "cell_type": "code",
      "metadata": {
        "colab": {
          "base_uri": "https://localhost:8080/"
        },
        "id": "vGN2moiPPR5P",
        "outputId": "bc772916-2615-4d9f-ba17-9f912874c7ac"
      },
      "source": [
        "def greet(name):\n",
        "  print('Hello %s' %name)\n",
        "greet('Deepak')"
      ],
      "execution_count": null,
      "outputs": [
        {
          "output_type": "stream",
          "text": [
            "Hello Deepak\n"
          ],
          "name": "stdout"
        }
      ]
    },
    {
      "cell_type": "code",
      "metadata": {
        "id": "Py6ygJHYQ2GA"
      },
      "source": [
        "def result(num1,num2):\n",
        "  return num1+num2\n",
        "#result(2,3)"
      ],
      "execution_count": null,
      "outputs": []
    },
    {
      "cell_type": "code",
      "metadata": {
        "colab": {
          "base_uri": "https://localhost:8080/"
        },
        "id": "TQidCJl8UB0A",
        "outputId": "30cc7e23-06bf-4b06-a639-0121c76c27ab"
      },
      "source": [
        "def result(num1,num2):\n",
        "  return num1*num2\n",
        "result(77,55)"
      ],
      "execution_count": null,
      "outputs": [
        {
          "output_type": "execute_result",
          "data": {
            "text/plain": [
              "4235"
            ]
          },
          "metadata": {
            "tags": []
          },
          "execution_count": 14
        }
      ]
    },
    {
      "cell_type": "code",
      "metadata": {
        "colab": {
          "base_uri": "https://localhost:8080/"
        },
        "id": "FVBe-9UyUcg4",
        "outputId": "b5a2eb0d-9cba-46ef-8870-3d95a19b0f96"
      },
      "source": [
        "i = result(90,30)\n",
        "i "
      ],
      "execution_count": null,
      "outputs": [
        {
          "output_type": "execute_result",
          "data": {
            "text/plain": [
              "2700"
            ]
          },
          "metadata": {
            "tags": []
          },
          "execution_count": 17
        }
      ]
    },
    {
      "cell_type": "code",
      "metadata": {
        "colab": {
          "base_uri": "https://localhost:8080/",
          "height": 35
        },
        "id": "dF9RM5DbU7TL",
        "outputId": "89a623b5-c2ae-42c9-f3de-b67ed13eda00"
      },
      "source": [
        "result('Deep','ak')\n"
      ],
      "execution_count": null,
      "outputs": [
        {
          "output_type": "execute_result",
          "data": {
            "application/vnd.google.colaboratory.intrinsic+json": {
              "type": "string"
            },
            "text/plain": [
              "'Deepak'"
            ]
          },
          "metadata": {
            "tags": []
          },
          "execution_count": 19
        }
      ]
    },
    {
      "cell_type": "code",
      "metadata": {
        "colab": {
          "base_uri": "https://localhost:8080/"
        },
        "id": "eSzcEMNQVME1",
        "outputId": "38c2ee8a-ad96-4357-85b5-083d3096c0d7"
      },
      "source": [
        "def is_prime(num):\n",
        "  for n in range(2,num):\n",
        "    if num % n == 0:\n",
        "      print('Not prime')\n",
        "      break\n",
        "    else:\n",
        "      print('Prime')\n",
        "is_prime(90)\n"
      ],
      "execution_count": null,
      "outputs": [
        {
          "output_type": "stream",
          "text": [
            "Not prime\n"
          ],
          "name": "stdout"
        }
      ]
    },
    {
      "cell_type": "code",
      "metadata": {
        "id": "MWSUUS8yXQes"
      },
      "source": [
        "import math\n",
        "def is_prime(num):\n",
        "  if num % 2 == 0 and num > 2:\n",
        "    return False\n",
        "  for i in range(3, int(math.sqrt(num)) + 1, 2):\n",
        "      if num % i == 0:\n",
        "        return False\n",
        "  return True\n",
        " "
      ],
      "execution_count": null,
      "outputs": []
    },
    {
      "cell_type": "code",
      "metadata": {
        "colab": {
          "base_uri": "https://localhost:8080/"
        },
        "id": "QUA84QKXZtXw",
        "outputId": "73a848d0-5c80-4bae-b6e5-2e0cb7e1f55e"
      },
      "source": [
        "(is_prime(7))\n"
      ],
      "execution_count": null,
      "outputs": [
        {
          "output_type": "execute_result",
          "data": {
            "text/plain": [
              "True"
            ]
          },
          "metadata": {
            "tags": []
          },
          "execution_count": 40
        }
      ]
    },
    {
      "cell_type": "code",
      "metadata": {
        "id": "wNhe5KBsauZ5",
        "colab": {
          "base_uri": "https://localhost:8080/"
        },
        "outputId": "af0d456d-588a-44fb-ab3e-645f9dfe7694"
      },
      "source": [
        "x = math.sqrt(22)\n",
        "x + 1"
      ],
      "execution_count": null,
      "outputs": [
        {
          "output_type": "execute_result",
          "data": {
            "text/plain": [
              "5.69041575982343"
            ]
          },
          "metadata": {
            "tags": []
          },
          "execution_count": 7
        }
      ]
    },
    {
      "cell_type": "code",
      "metadata": {
        "colab": {
          "base_uri": "https://localhost:8080/"
        },
        "id": "f5_eUPB5p9Aq",
        "outputId": "0599bb4f-bc57-43b9-b036-40556627ff5b"
      },
      "source": [
        "int(x)"
      ],
      "execution_count": null,
      "outputs": [
        {
          "output_type": "execute_result",
          "data": {
            "text/plain": [
              "4"
            ]
          },
          "metadata": {
            "tags": []
          },
          "execution_count": 9
        }
      ]
    },
    {
      "cell_type": "code",
      "metadata": {
        "id": "vblAv_fnqFn5"
      },
      "source": [
        "  def gencubes(n):\n",
        "    for num in range(n):\n",
        "      yield num**3"
      ],
      "execution_count": null,
      "outputs": []
    },
    {
      "cell_type": "code",
      "metadata": {
        "colab": {
          "base_uri": "https://localhost:8080/"
        },
        "id": "OD2knHcMpzjx",
        "outputId": "f8cc9992-5117-4408-f79d-e9db553662a9"
      },
      "source": [
        "for x in gencubes(4):\n",
        "  print(x)"
      ],
      "execution_count": null,
      "outputs": [
        {
          "output_type": "stream",
          "text": [
            "0\n",
            "1\n",
            "8\n",
            "27\n"
          ],
          "name": "stdout"
        }
      ]
    },
    {
      "cell_type": "code",
      "metadata": {
        "id": "XhVcIwjCrxm6"
      },
      "source": [
        "def gensqr(j):\n",
        "  for num in range(j):\n",
        "    yield num**2"
      ],
      "execution_count": null,
      "outputs": []
    },
    {
      "cell_type": "code",
      "metadata": {
        "colab": {
          "base_uri": "https://localhost:8080/"
        },
        "id": "Qq1nSnqvsdn3",
        "outputId": "12204775-7dc0-4ca0-bd3a-3828910ad89d"
      },
      "source": [
        "for x in gensqr(5):\n",
        "  print(x)"
      ],
      "execution_count": null,
      "outputs": [
        {
          "output_type": "stream",
          "text": [
            "0\n",
            "1\n",
            "4\n",
            "9\n",
            "16\n"
          ],
          "name": "stdout"
        }
      ]
    },
    {
      "cell_type": "code",
      "metadata": {
        "id": "TIK7aEgM_uK2"
      },
      "source": [
        "def genfib(n):\n",
        "  a = 1\n",
        "  b = 1\n",
        "  for i in range(n):\n",
        "    yield a\n",
        "    a,b = b,a+b"
      ],
      "execution_count": null,
      "outputs": []
    },
    {
      "cell_type": "code",
      "metadata": {
        "colab": {
          "base_uri": "https://localhost:8080/"
        },
        "id": "GUHa3tWdAjvw",
        "outputId": "fd4d4a4f-03e6-413b-8734-34b68c7581a8"
      },
      "source": [
        "for num in genfib(10):\n",
        "  print(num)"
      ],
      "execution_count": null,
      "outputs": [
        {
          "output_type": "stream",
          "text": [
            "1\n",
            "1\n",
            "2\n",
            "3\n",
            "5\n",
            "8\n",
            "13\n",
            "21\n",
            "34\n",
            "55\n"
          ],
          "name": "stdout"
        }
      ]
    },
    {
      "cell_type": "code",
      "metadata": {
        "id": "-ax1ZKOmEMGB"
      },
      "source": [
        "def simpgen():\n",
        "  for x in range(4):\n",
        "    yield x\n",
        "j = simpgen()"
      ],
      "execution_count": null,
      "outputs": []
    },
    {
      "cell_type": "code",
      "metadata": {
        "colab": {
          "base_uri": "https://localhost:8080/"
        },
        "id": "BawladxiFNE6",
        "outputId": "9995b294-bc34-42b0-b46a-9d9fc26d3ce0"
      },
      "source": [
        "print(next(j))"
      ],
      "execution_count": null,
      "outputs": [
        {
          "output_type": "stream",
          "text": [
            "0\n"
          ],
          "name": "stdout"
        }
      ]
    },
    {
      "cell_type": "code",
      "metadata": {
        "colab": {
          "base_uri": "https://localhost:8080/"
        },
        "id": "SOv57y9sFhvS",
        "outputId": "297f2285-0882-4f2d-f6b7-e441b17b5ffe"
      },
      "source": [
        "print(next(j))"
      ],
      "execution_count": null,
      "outputs": [
        {
          "output_type": "stream",
          "text": [
            "1\n"
          ],
          "name": "stdout"
        }
      ]
    },
    {
      "cell_type": "code",
      "metadata": {
        "colab": {
          "base_uri": "https://localhost:8080/"
        },
        "id": "EKgCVzF4FkFw",
        "outputId": "b5416e84-2270-4c0f-cbdf-8b94a2e51de1"
      },
      "source": [
        "print(next(j))"
      ],
      "execution_count": null,
      "outputs": [
        {
          "output_type": "stream",
          "text": [
            "2\n"
          ],
          "name": "stdout"
        }
      ]
    },
    {
      "cell_type": "code",
      "metadata": {
        "colab": {
          "base_uri": "https://localhost:8080/"
        },
        "id": "8nsI1HW8Fm_w",
        "outputId": "d0e62bca-f9d1-4e81-cf96-b8ea400f31ce"
      },
      "source": [
        "print(next(j))"
      ],
      "execution_count": null,
      "outputs": [
        {
          "output_type": "stream",
          "text": [
            "3\n"
          ],
          "name": "stdout"
        }
      ]
    },
    {
      "cell_type": "code",
      "metadata": {
        "colab": {
          "base_uri": "https://localhost:8080/",
          "height": 163
        },
        "id": "4E4icVGAFtcl",
        "outputId": "26e00a01-3ccc-4eec-ec0f-e9d69af4e8fd"
      },
      "source": [
        "print(next(j))"
      ],
      "execution_count": null,
      "outputs": [
        {
          "output_type": "error",
          "ename": "StopIteration",
          "evalue": "ignored",
          "traceback": [
            "\u001b[0;31m---------------------------------------------------------------------------\u001b[0m",
            "\u001b[0;31mStopIteration\u001b[0m                             Traceback (most recent call last)",
            "\u001b[0;32m<ipython-input-21-efdb3f967422>\u001b[0m in \u001b[0;36m<module>\u001b[0;34m()\u001b[0m\n\u001b[0;32m----> 1\u001b[0;31m \u001b[0mprint\u001b[0m\u001b[0;34m(\u001b[0m\u001b[0mnext\u001b[0m\u001b[0;34m(\u001b[0m\u001b[0mj\u001b[0m\u001b[0;34m)\u001b[0m\u001b[0;34m)\u001b[0m\u001b[0;34m\u001b[0m\u001b[0;34m\u001b[0m\u001b[0m\n\u001b[0m",
            "\u001b[0;31mStopIteration\u001b[0m: "
          ]
        }
      ]
    },
    {
      "cell_type": "code",
      "metadata": {
        "colab": {
          "base_uri": "https://localhost:8080/"
        },
        "id": "ih4vC2jnFzbX",
        "outputId": "2793b205-b19e-41c7-a5c7-e7c21dc37f4f"
      },
      "source": [
        "s ='Deepak'\n",
        "for i in s:\n",
        "  print(i)"
      ],
      "execution_count": null,
      "outputs": [
        {
          "output_type": "stream",
          "text": [
            "D\n",
            "e\n",
            "e\n",
            "p\n",
            "a\n",
            "k\n"
          ],
          "name": "stdout"
        }
      ]
    },
    {
      "cell_type": "code",
      "metadata": {
        "colab": {
          "base_uri": "https://localhost:8080/",
          "height": 163
        },
        "id": "4KAsFdJNGcge",
        "outputId": "0eab2e98-3bb1-41aa-f482-2f7edb3c4377"
      },
      "source": [
        "next(s)"
      ],
      "execution_count": null,
      "outputs": [
        {
          "output_type": "error",
          "ename": "TypeError",
          "evalue": "ignored",
          "traceback": [
            "\u001b[0;31m---------------------------------------------------------------------------\u001b[0m",
            "\u001b[0;31mTypeError\u001b[0m                                 Traceback (most recent call last)",
            "\u001b[0;32m<ipython-input-24-61c30b5fe1d5>\u001b[0m in \u001b[0;36m<module>\u001b[0;34m()\u001b[0m\n\u001b[0;32m----> 1\u001b[0;31m \u001b[0mnext\u001b[0m\u001b[0;34m(\u001b[0m\u001b[0ms\u001b[0m\u001b[0;34m)\u001b[0m\u001b[0;34m\u001b[0m\u001b[0;34m\u001b[0m\u001b[0m\n\u001b[0m",
            "\u001b[0;31mTypeError\u001b[0m: 'str' object is not an iterator"
          ]
        }
      ]
    },
    {
      "cell_type": "code",
      "metadata": {
        "colab": {
          "base_uri": "https://localhost:8080/",
          "height": 0
        },
        "id": "e47zmCBBeV_4",
        "outputId": "f3fa38f8-e99f-4edd-892e-087273d90994"
      },
      "source": [
        "def fahrenheit(T):\n",
        "  return ((float(9)/5)*T + 32)\n",
        "def celsius(T):\n",
        "  return ((float(5)/9)*(T - 32))\n",
        "temp = [0 , 22.5 , 40 , 100]\n",
        "ftemp = (list(map(fahrenheit,temp)))\n",
        "ftemp\n"
      ],
      "execution_count": 13,
      "outputs": [
        {
          "output_type": "execute_result",
          "data": {
            "text/plain": [
              "[32.0, 72.5, 104.0, 212.0]"
            ]
          },
          "metadata": {
            "tags": []
          },
          "execution_count": 13
        }
      ]
    },
    {
      "cell_type": "code",
      "metadata": {
        "colab": {
          "base_uri": "https://localhost:8080/",
          "height": 0
        },
        "id": "XaPswFeJghw7",
        "outputId": "a1ce3202-4baf-454a-ceed-a24598877a84"
      },
      "source": [
        "list(map(celsius,ftemp))"
      ],
      "execution_count": 14,
      "outputs": [
        {
          "output_type": "execute_result",
          "data": {
            "text/plain": [
              "[0.0, 22.5, 40.0, 100.0]"
            ]
          },
          "metadata": {
            "tags": []
          },
          "execution_count": 14
        }
      ]
    },
    {
      "cell_type": "code",
      "metadata": {
        "colab": {
          "base_uri": "https://localhost:8080/",
          "height": 0
        },
        "id": "E_wNYU-DhNSb",
        "outputId": "4c0e1ebb-be71-4e89-ea72-1ba13b017847"
      },
      "source": [
        "list(map(lambda x: (5.0/9)*(x - 32), ftemp))"
      ],
      "execution_count": 16,
      "outputs": [
        {
          "output_type": "execute_result",
          "data": {
            "text/plain": [
              "[0.0, 22.5, 40.0, 100.0]"
            ]
          },
          "metadata": {
            "tags": []
          },
          "execution_count": 16
        }
      ]
    },
    {
      "cell_type": "code",
      "metadata": {
        "colab": {
          "base_uri": "https://localhost:8080/",
          "height": 0
        },
        "id": "ab1NZ5ORjrrL",
        "outputId": "41739f0a-95f3-46b8-8a40-8406b45ec008"
      },
      "source": [
        "a = [2,3,2,4,5]\n",
        "b = [4,3,6,8,5]\n",
        "c = [5,8,9,3,2]\n",
        "list(map(lambda x,y,z:x+y+z,a,b,c))"
      ],
      "execution_count": 18,
      "outputs": [
        {
          "output_type": "execute_result",
          "data": {
            "text/plain": [
              "[11, 14, 17, 15, 12]"
            ]
          },
          "metadata": {
            "tags": []
          },
          "execution_count": 18
        }
      ]
    },
    {
      "cell_type": "code",
      "metadata": {
        "colab": {
          "base_uri": "https://localhost:8080/",
          "height": 0
        },
        "id": "iVyieIFUltOw",
        "outputId": "566be7dc-0ab8-4557-946c-26fafc40b53c"
      },
      "source": [
        "from functools import reduce\n",
        "l = [5,3,6,7]\n",
        "reduce(lambda x,y: x+y,l)"
      ],
      "execution_count": 21,
      "outputs": [
        {
          "output_type": "execute_result",
          "data": {
            "text/plain": [
              "21"
            ]
          },
          "metadata": {
            "tags": []
          },
          "execution_count": 21
        }
      ]
    },
    {
      "cell_type": "code",
      "metadata": {
        "colab": {
          "base_uri": "https://localhost:8080/",
          "height": 34
        },
        "id": "fpx-TAQiodvm",
        "outputId": "4dbe6d59-db4f-40f6-8b72-2296c25c598e"
      },
      "source": [
        "from IPython.display import Image\n",
        "Image('data:image/jpeg;base64,/9j/4AAQSkZJRgABAQAAAQABAAD/2wCEAAoHCBIREhIRERISEREREhIREREREREREREQGBQZGRgUGBgcIS4lHB4rHxgYJjgmKy8xNTU1HCQ7QDs0QC40NTEBDAwMEA8QGhISGjQhJCE0MTE2PzE0PTQ0MTY0MTQ0NDQxNDQ0NDQ0NTQ0NDE0NjExNDE0NDQ0NDQ/MTQ0NDQ/Mf/AABEIALEBHAMBIgACEQEDEQH/xAAbAAABBQEBAAAAAAAAAAAAAAACAAEDBAUGB//EADsQAAIBAgQDBgMECgIDAAAAAAECAAMRBBIhMQVBUQYTImFxgTKRoUKxwfAHFBUjM1JicoLRkuFjc7L/xAAaAQEBAQEBAQEAAAAAAAAAAAAAAQIEAwUG/8QAKREBAQEBAAICAgECBgMAAAAAAAECEQMxBCESQVETYQWBodHh8BQicf/aAAwDAQACEQMRAD8AwwkLLBNSRtUmHqmBElR5SLyalIi5mjoZEDDQwLaS3SlNDLVN4EzmZ+JMuO8zcS8sGdiWlFnk+LeZzVITqcvAapK7VJGXvLwWxWjmvKww9Q2sja7aHbrfaQVFqLujgdSptb1jguPiPOVqteVWqGRM95riJHqQC8CNKCLmDFFCFHij2gNFCAjgQBAj2hWitAYCK0K0YwGiijQFHiAjgQGitCAhZYHRlo2aR54JeebaXNLNJ5n55PTqWgaAeOjyka0bv7RxGr3sNMRMZsVAGLl4dbj4mZ2JxHnKb42Z+Ixd+ccS1Nia8oZyTYak6AcyZDUrXk/DioLO58NNc1h8TtfRRLxV84anSGeu920tTQ636G2v53iXjNFblKdNSPhDU3LHyPit9ZmY3GZ/Ibhb3C369TKOZTvY/nrziT+Ut/hstx6p0Un+nw31J1APnykS8YqFrlmXqLtb26e8y8yDr7RjVLaJcmF7Wwcaja5abka2qKD82W34SE0VqG9MLTufgapdR5KSSSPUn1lejwnFPYrTI6X2PzhVOG4mn4mpugHxOmYKPMzP5T+V/G/wCvQZDlcWNrixDAjqCNCPSRy+2Gz0w6ksUUBlupITkwG9tRcynabjAbRWhZY4EoYCICEBHl4BAj2ivGvAKNeKKArxjHtHtAC0VoYWEFkAAQgskCQgkAFWPlkoSFlgXC8AvIGqSJqkxxrqy1SIV5TapIzUl4nWj38jfESiasBqhl4dWXxEA4iVyY0cRK9YmRljGilCkrnLTVraZjvsTcWJ67HSRSVxdUFr2BKjl8TXMlWKLAsTYE7m1thzM6Ds/wBkquLCvfIh1zWuzD8BN/sz2dw1ZL11ZzoSA7JcdDlIuJ6NgqFNFVaahUAAVQLADpOby+Wz6y6PF4pfvTjMN+jjDgeN6jt1uAPkBNzhnY7CUNVphj1YBtfedIAIgbTnu9X3XRMZnqKaYFFGige2kgrUlIIZQQQQQQLWmg7k32mXjHNvOJrjVnXlvHMGcFiCE/gsc6DkAd19L/QzIxAGc223FvMXnb9qkDoCw1ubHz6ThnN7W6W9xp+E7vFr8o4fLn8dBjXiinq8jXjxRrQHgwrRwsgEQgIQWGEgABCCyRUkgSBCEhhJMEhBIEQSSCnJAkMJKIgkLJJQkLLIMU1IBeR3iEAy0a8aPAUUUUBRR7RWgNaK0e0ICAIEtYdcz0x0vfz8QNvvkAEvtgatIU6lSm9NHuULLbMpANwDy5zOvTWfbvezabtYhAABfradAcZTpkZ3VL6gFrEj0mCtVxhaZojxsihLi4BI+Ijy3nKcTXD0Daua2Irvuc4QDW1yzaKLzkmZq/br7cz6eqYfH03+F1PLQ85dUqdyJ43iOBYlKVPFUC606qh1C1A7Kp2uQN/S867sO9d0K1KjMuvxklr/AOpnec5jeNa1+nU8S4jRoKTUqIgtpmIBPoJxmP7Z0CclFHrPyCDeY3bvBYg1Sti6gXW19jfTz2lngnCQmFFRKhpVrsClSmq5raggAk7aXPMHSaznP49Y1dS8P+0KeLvTZKlN/iCuOm+U7GcU3PqGcEf5Gd/wqhUfK9VQjq3zG2vL88pS4Xwle7qo1JHNTEVUqO6XanSVivgbdWuL3HXW89MbzntZ349bsk9uLtHtJ8RhzTd6Z3R2Q+qsR+EEJOnrkRhYQSSBIYpwI1SEqSYJDCQIlSGEkgWGFhEQSGEkoSOElABIQSSBYQWBGFhhYYWOFhQZY9oeWFlgcrHtCAitIGtFaFaK0vA1o9o8eA1o8a8a8B7xXg3ijosYRA9Smh2epTQ32szgH756TxPhSNRrB2stzUBY6IxvsTtPMEYghgbFSCD0INwZ6zh6/f0Va2YVER2tpcMgJA9DfSc3yO/Vjs+Lyyy/s/Z9b4eip1KpY/3A6y7V4IKhzqEDkEZnXNp03uJj8KxypUqJsFclVIIIU+Iact50lPiiKmZjZRqTOe+3rn6Zp4C+z1QFHKmljbpdifpaXsBh1p+FLk82JJJ95jVuNrXLuXyU1B7tL2Lcs7dfITm8T2ur5yFqJkQiypSIJHTNn+tpJjWm7vMdxxXCpUYZ1uNRzuPQjWVqHZ6k2qVKo8g5I+e84fFdq8QWDLUVLGxGTvD5m9wPKbA7QqgWpSqAvuyk2D9bjlLcaiTeb37dVU4clJLA6feepMzcI47tybaVKg1t9prE/MyJuPriKecXG4IO6tzUyrQrotKo4NwjVHdja2b4go/5AepjnfompL+TiuK1BUr1qiiweo5Hz399/eVwkky8+sILPoScnHzbe3oAkIJJAsMLDKILDCwwsILKACQgsMCOBAECEBHtCtAYCOBEBDAgMFj2hAQgIAhY+WGBFaByUV41415FFeK8G8eXoe8V40UnQ940e0fLAGPaGEhhIEYWdr2P40An6tUOVkBNJ7/ECblPUXJHXXynIhJNhsM1R0RFzPUYKq9WP4ecxuS5+28as1LHRcVxRGIqVE5hCL/a0yk/MGQ47Fu+ErZSSdSRfULcXHyMs9puFDCCgF1RaeQ1PFZ3tmckE6EvmYeTeU5QcTNMka2YEMvIg7/SeGZnUlzex761Zb+U4KhTrtUSllfNU+AbKwIvcHbrOgXsNiWGZ6mHQsbZXqlSND5f0ke0bsvjKVem2GxCo4X4M9tV5WJ5jynSfsjABbuiv5uCzC5J3O+pO8ttl56XOM6neuRr9mVp5jUx2DXMTZRXV2PiAI06X+ky24TXtUqLbuqS5u8N7OAL2Uc536fs6n/CpUgw55VzfM6zD7WcZpmi1JT4n0so0AB1v+eks1beQ1jOZb1mYesKdBUzBqlUZzroL7fgIVPGP3T0gdHfM56nw6fNR8pzLVjcG+ugHpN/D07IvUgE38xf8Z6ZxJeufW7ZyCCwgsMLHAnq8whYQEICOBAa0e0ICICFNaPaEBCywgAscLDCxwsBgI4EK0cCAgIrRwI9oCtHtHj2gcVaPaGEhBJFRhYQWSBIQSBEEhBJKFjhYEYSGEhhYQWERhYQSSBIQWBGFnY/o9wAd69YglqaIiEjTM5bNY9cq2/yM5QLLP7Ur4V1FF8vdZgcuzsTd84+0Nh6KPWY8ni15MXObzsb8e5jct/T0bjmBGKw9Slpdh4b7q66j6zxXHUWpVHp1FKupKkHkd7+m09R7NdqExbd1UApV7XSzHJVW2oF9Qw6a6czYyH9IXAVq4dsSi/vaAu9t3o/av6Xv6Az5fx97+P5P6XknOvo/IznzY/PN9PMkZrqV0Nxbl4gLmbx4nUdCrmwUAbHNy0vMWjUUrmOXNYdL+HTblob+x6SbFVdFAtcKjE/4gn30vPqXMvt86as9NSli1TMERfEmdQfExAsPxJ9jMXEXJzHmToeWslFceG/xCnZRoRbKSPTe3rGooapVRcm+UjkoFlufvjkhdW/SCjhy9RV3HhuRsBb8j2nUBdvLT2kGApoqAUzcX1J+K/nLdpuTjAQI4EcCEFlA5Y4WGFhAQACwgIQWFaANo4WPaEBAECICHaK0AQI4EICPaANo9oVo4EAQI9oQEe0DkQscLJAsILIqMLHCyQLCCwiMLDCwwsIJKIwsILJAkMJAiCwwkMJN7s12fOLYvUumHQ2dx8TtvkTz6nkD6SyW3kTVmZ2oOA8Eeue8ZGNBL3IJXvHtoinffUkbAciRIuJcHphjkZlYm5GbOij31+s7vjDBEShTC0aYXKFUG1tTl8xuT1PrOaqYIa+Im5vqBv56z6/xvjZmP8A2nbXz/J57ddl44bG4N6ZDaqysCjpe2YG4IPI6Tu+y/ahcWncYjKK4UqwOi11tYkedtxM/EYM6i4IOhBGhHS0wOIcAqrlq0Vf4gVy/EpGxDcve0+f/iX+HY3nvec9fzHb8T539O/fq/6s/tJwY4OuyLfu2u1JuqE7X6jY/wDcz6yhvg0UaC++U9fr851D8Q/XqX6riv3eKQ3ou4yqzjSx6X2PK9iNrTATDNTcpUUqymxDaEG+xnz/AB3X48vue/8Ad2bmLrufV9Ki0mvrpcWv7j/U6LA0Up03ca2Q3J5m2kBMFe0m4t+6oqgHxuM3ko1++0zN/lqZb/pclrOw7lDoZt0GzKGta42mLTsRf5ToKNMhVHRQPpO/yScjjhgsLLJO7iyzyUAWOFhhYWWBGFhBYeWOBCgyx7Q8scLCAtHtCCyQU4EVo4WS91FkhUWWPaSZIzCTpwEUZjIs8pxkHDGRmnabjYeVK9C0zKcUAkIU5LlhBZURBIQSTBI4SFRinCFOShYaoTYAXJ0A84F3gXBTiXYsSlGnY1agtex2Rb/aP038j2dbiKUaa06aLTpoLIg+FV6k8zzvz1h4PDrh8EqC1yudz/M7MLsfaw9AJw/G+IF2NNT4F0NvtGdfwbm51vU9XkcXluteS49cW+IcdDPfxPa4voF1tt8pUHGP/Gf+Q/1MkmNO3/yNfr6J4MfuOhwPEadR0VjlJYCz2Ct5X2m7isqgknJ5jTXp6zz5hcTSwHGWCGjVOambBWb4k1Gh6rp7T5/z5vzSWffF8fw878uZ3ktkv9oDjVBKuYsiqTYZst726jkfMTAxFdrqlS5dRlSoPEzL9lW622B35dLei9nuCjF1WpuSKSDMzra7DkoPI879BNvtLhuF4GhlqpSAYeCgEz1KtvtC3iB/rJFus+d4JvvX6X52PieDM8Pjz9z/AL7eX8Mq+MUnOVr3W+ht0N5uVuCnFVCiMFqU6ZdVb+G6ixYFvsmxBvt6bzjuN46m7t+rLVVLgqKxU1UtbS43F7+3vLvAu1z0WPeDM3d1UV9dC9F6a5uoBZTp0npvwzWvy9ODw/JuP/s9f8iTC06gujgEb5Dce4/Ga3CRU1Sp4gBdXHQWFj8xOSoKoUsrEOpUJl0uNbm/sPnO77P4QiijuxZ3XN5KpN1HncWN/ObudYnO9n9/b08nl8PnzbfHzU/c9f5pTRkb0rTUNKQ1acdcXGZlj2kzpGyzSIrRwskyxWgR2hBY8a8LxJTSWkpyvhzeaKLpM2kiuySvVW00GWUsVpJ1eKjPAZ5DUqayFqsda4kd5XNSC9SVi8SpY6tqMoYqlNp1mZjRESsgpHCwiI4E2yYCEBFaOBAQE0+C4XO71D8NFQ5/vLBUH1J/xmeBOv7M4PNgMewPiBRvamGe3uCZnUv43j08FzPLn8vXYh7QcXyYZKanx1EAH9Kgan89fIzhmMnx1cvUYk3y+FeYABOg9yT7yq5nV8Xx/h45P5+3h5sZz5t8ve2kWjZpGTHBnR1gZaRVUDeRGx/PKGTIXBGq69VO3t0hXZ/o646KZxGHbKK/dmrhy75Uc0lZmpEnYFbm/QN/LOL4hjXxNRq9Ri71TmLG+x1Ci+wGwHKVsQb2deV16EX0Kny/OxgYZrrb+Uke24njnMzq8/bWta1929R1MOG6g9RKWJwhvpv5bN/3N6nw+s+XLRrNnXMmWlUOdLgZlsNRcgXHURYvhtVFzVaNRFzZA1Sm6DPbNlBI3trbpJrOakrFwe1jyNp6/wAMrYXFYZKlD93Xp0qf6zQsQGWyp3icrXtt11F7X8mFPLUI/mF/exvOn4XjjRalWVipTu6b2ByvQyZHRh/aB9+4vMaxNZ5f09M7ubeX37/u7Q05XxC6S2x6G469R1lTEtpOaNM2odYBaR1n1kLVJpE5eRmpK7VZG9aUWWqSNqsqNXkT1oVr4SrrNqk2k5bA1bmdDh30nnoi0xmZj3sJoEzL4idDI2wa+I1kff3lfEN4jAVpridWGqSEtEXg3kkHoriZuNWazCZ2LWWM1jlYgsmKRBJtlGFhBZIEjhIABZudlO01LBjFpXuUdA9NAL53QFTT8swZdTp4TMZhYE9AT8hMHGVLanlv6T28eZqXrGrywJq3JNgLkmw0AvyHlCzSpUNteUkR7zol/TKYwQbRXiIlEhWQuSNxcdRuP9yRG5RzKKVdLgsuoIswH2l6+olTBv43HXKffKP9TSenrmW2u45H/uZapkrEHQEC3pPPU5ZVj179H9da+BdKruv6s9ailRSQ6UKtHMVVuVmGYeap5STjGAq4qmmAql++rpUxCO+UquJoVUV6aC4uCr4gqDbwsmulx5rg8e1JKiAvZ2pOFWoyoWR83jQGzAi++xt53sVeL5te6S+d2VmPeMt6quguwucoDJ/UjWOwnlcXvYvWXxzBthqxpvbNRrNTJGzDUZh5HQ+83uBL3qVsNa5qZGp7XzglVt55nT2vMTHVDUVFyqMi5UIBBIDXQMedtgd7AXvLfDMWaVSm4JFrXIvcAixNr6nW/qBNXN+yV2/DqxejSY792oa/86jK31BkWMfSWGZblktlqE1QF2Bckv8ANw59GB5zPx76Gcl9vWemRiK1jKr15Bi62sqtVlTi09eRPXlYvBLQcTtVkZqGRXjXhWnw19Z1WFOgnJcLPinWYXYTGli0dpl8RGhmqZmcS2MkacjiviMhBk2L+KQgzbB7xXjXivB16i0zsXHikhWa28cRRTbJ1hiKKBHif4b/ANpnNYvY+n4RRT28XqvPXuIvsD0H3RqHKKKe37RYEIRRTaGXeSNFFLFCnOZ2P/iJ/afvEaKY36WJTFFFJEJ+UJOX9o+6KKWq7nBfAn/rpf8Awsr4/YxRTgvt7z05TGfFKxiilQ0YxRSBRjGigaHDPinXYTYRRTOli2dpmcR2MUUkachi/iMgiim2Ciiigf/Z')"
      ],
      "execution_count": 23,
      "outputs": [
        {
          "output_type": "execute_result",
          "data": {
            "image/png": "data:image/jpeg;base64,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",
            "text/plain": [
              "<IPython.core.display.Image object>"
            ]
          },
          "metadata": {
            "tags": []
          },
          "execution_count": 23
        }
      ]
    },
    {
      "cell_type": "code",
      "metadata": {
        "colab": {
          "base_uri": "https://localhost:8080/"
        },
        "id": "H79YpBcZppGe",
        "outputId": "e7c020f0-d924-463f-9c0a-85326bf0a8ad"
      },
      "source": [
        "max = lambda a,b: a if (a > b) else b\n",
        "reduce(max,l)\n"
      ],
      "execution_count": 27,
      "outputs": [
        {
          "output_type": "execute_result",
          "data": {
            "text/plain": [
              "7"
            ]
          },
          "metadata": {
            "tags": []
          },
          "execution_count": 27
        }
      ]
    },
    {
      "cell_type": "code",
      "metadata": {
        "colab": {
          "base_uri": "https://localhost:8080/"
        },
        "id": "Ik3H41b_qyA2",
        "outputId": "205eec22-9e6e-4660-cedf-e068eaf1a3fa"
      },
      "source": [
        "reduce(lambda a,b: a if (a > b) else b,l)"
      ],
      "execution_count": 28,
      "outputs": [
        {
          "output_type": "execute_result",
          "data": {
            "text/plain": [
              "7"
            ]
          },
          "metadata": {
            "tags": []
          },
          "execution_count": 28
        }
      ]
    },
    {
      "cell_type": "code",
      "metadata": {
        "colab": {
          "base_uri": "https://localhost:8080/"
        },
        "id": "yjqEJO3gv17U",
        "outputId": "2b289cbb-06c8-41ed-c526-6e88a70c348e"
      },
      "source": [
        "def even_check(num):\n",
        "  if num%2 == 0:\n",
        "    return True\n",
        "l = range(15)\n",
        "list(filter(even_check,l))\n"
      ],
      "execution_count": 29,
      "outputs": [
        {
          "output_type": "execute_result",
          "data": {
            "text/plain": [
              "[0, 2, 4, 6, 8, 10, 12, 14]"
            ]
          },
          "metadata": {
            "tags": []
          },
          "execution_count": 29
        }
      ]
    },
    {
      "cell_type": "code",
      "metadata": {
        "colab": {
          "base_uri": "https://localhost:8080/"
        },
        "id": "UvF---hHwngD",
        "outputId": "d474a1c7-fe5d-4f6b-85f6-1f5a531dfba3"
      },
      "source": [
        "list(filter(lambda x: x%2==0,l))"
      ],
      "execution_count": 30,
      "outputs": [
        {
          "output_type": "execute_result",
          "data": {
            "text/plain": [
              "[0, 2, 4, 6, 8, 10, 12, 14]"
            ]
          },
          "metadata": {
            "tags": []
          },
          "execution_count": 30
        }
      ]
    }
  ]
}